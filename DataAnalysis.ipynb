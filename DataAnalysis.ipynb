{
 "cells": [
  {
   "cell_type": "code",
   "execution_count": 7,
   "id": "initial_id",
   "metadata": {
    "collapsed": true,
    "ExecuteTime": {
     "end_time": "2024-07-13T06:58:10.280299Z",
     "start_time": "2024-07-13T06:58:10.276604Z"
    }
   },
   "outputs": [],
   "source": [
    "import pandas as pd"
   ]
  },
  {
   "cell_type": "code",
   "execution_count": 8,
   "outputs": [],
   "source": [
    "df = pd.read_csv('result.csv')"
   ],
   "metadata": {
    "collapsed": false,
    "ExecuteTime": {
     "end_time": "2024-07-13T06:58:10.304571Z",
     "start_time": "2024-07-13T06:58:10.282497Z"
    }
   },
   "id": "2906e46bd00b7271"
  },
  {
   "cell_type": "code",
   "execution_count": 9,
   "outputs": [
    {
     "data": {
      "text/plain": "       acousticness                         artists  danceability  \\\n0           0.73700                           drake         0.559   \n1           0.02360                           nelly         0.690   \n2           0.56600                  plain white ts         0.458   \n3           0.10700                          amerie         0.612   \n4           0.26500                           drake         0.825   \n...             ...                             ...           ...   \n10506       0.70300                    ohio express         0.738   \n10507       0.15000                     post malone         0.738   \n10508       0.05170                     chris brown         0.731   \n10509       0.00756                      bad wolves         0.448   \n10510       0.15400  herb alpert  the tijuana brass         0.531   \n\n       duration_ms  energy  instrumentalness  key  liveness  loudness  \\\n0           275227   0.716          0.000000   11    0.2520    -3.964   \n1           198760   0.592          0.000000    7    0.5600    -5.973   \n2           198360   0.550          0.000014    2    0.1080    -7.092   \n3           238760   0.961          0.000042   10    0.0413    -3.078   \n4           177733   0.756          0.000002   11    0.0762    -3.687   \n...            ...     ...               ...  ...       ...       ...   \n10506       142547   0.695          0.000873    0    0.1580    -8.108   \n10507       204360   0.824          0.000000    5    0.1320    -5.165   \n10508       214600   0.818          0.000000    1    0.0743    -4.564   \n10509       254805   0.826          0.000000    2    0.1170    -3.244   \n10510       264853   0.642          0.279000    5    0.0584   -12.702   \n\n       popularity  speechiness    tempo  valence  year  \\\n0              70       0.3900  176.618    0.504  2013   \n1              50       0.3000  179.980    0.466  2002   \n2              63       0.0262   90.560    0.560  2008   \n3              60       0.3330  129.873    0.867  2005   \n4              64       0.3830  172.938    0.888  2015   \n...           ...          ...      ...      ...   ...   \n10506          40       0.0325  131.341    0.965  1968   \n10507          71       0.0437  138.039    0.386  2018   \n10508          55       0.0638  120.993    0.812  2015   \n10509          72       0.0319   77.093    0.190  2018   \n10510          36       0.3230   82.107    0.192  1965   \n\n                         Song  Weeks on Chart  Average Previous Week Position  \\\n0      0 to 100  the catch up              20                              47   \n1                           1              20                              38   \n2                     1 2 3 4              20                              48   \n3                     1 thing              20                              38   \n4                    10 bands              13                              78   \n...                       ...             ...                             ...   \n10506       yummy yummy yummy              14                              23   \n10507        zack and codeine               3                              43   \n10508                    zero               2                              80   \n10509                  zombie              17                              77   \n10510         zorba the greek              12                              34   \n\n       Week Position  \n0                 35  \n1                 22  \n2                 34  \n3                  8  \n4                 58  \n...              ...  \n10506              4  \n10507             63  \n10508             95  \n10509             61  \n10510             11  \n\n[10511 rows x 18 columns]",
      "text/html": "<div>\n<style scoped>\n    .dataframe tbody tr th:only-of-type {\n        vertical-align: middle;\n    }\n\n    .dataframe tbody tr th {\n        vertical-align: top;\n    }\n\n    .dataframe thead th {\n        text-align: right;\n    }\n</style>\n<table border=\"1\" class=\"dataframe\">\n  <thead>\n    <tr style=\"text-align: right;\">\n      <th></th>\n      <th>acousticness</th>\n      <th>artists</th>\n      <th>danceability</th>\n      <th>duration_ms</th>\n      <th>energy</th>\n      <th>instrumentalness</th>\n      <th>key</th>\n      <th>liveness</th>\n      <th>loudness</th>\n      <th>popularity</th>\n      <th>speechiness</th>\n      <th>tempo</th>\n      <th>valence</th>\n      <th>year</th>\n      <th>Song</th>\n      <th>Weeks on Chart</th>\n      <th>Average Previous Week Position</th>\n      <th>Week Position</th>\n    </tr>\n  </thead>\n  <tbody>\n    <tr>\n      <th>0</th>\n      <td>0.73700</td>\n      <td>drake</td>\n      <td>0.559</td>\n      <td>275227</td>\n      <td>0.716</td>\n      <td>0.000000</td>\n      <td>11</td>\n      <td>0.2520</td>\n      <td>-3.964</td>\n      <td>70</td>\n      <td>0.3900</td>\n      <td>176.618</td>\n      <td>0.504</td>\n      <td>2013</td>\n      <td>0 to 100  the catch up</td>\n      <td>20</td>\n      <td>47</td>\n      <td>35</td>\n    </tr>\n    <tr>\n      <th>1</th>\n      <td>0.02360</td>\n      <td>nelly</td>\n      <td>0.690</td>\n      <td>198760</td>\n      <td>0.592</td>\n      <td>0.000000</td>\n      <td>7</td>\n      <td>0.5600</td>\n      <td>-5.973</td>\n      <td>50</td>\n      <td>0.3000</td>\n      <td>179.980</td>\n      <td>0.466</td>\n      <td>2002</td>\n      <td>1</td>\n      <td>20</td>\n      <td>38</td>\n      <td>22</td>\n    </tr>\n    <tr>\n      <th>2</th>\n      <td>0.56600</td>\n      <td>plain white ts</td>\n      <td>0.458</td>\n      <td>198360</td>\n      <td>0.550</td>\n      <td>0.000014</td>\n      <td>2</td>\n      <td>0.1080</td>\n      <td>-7.092</td>\n      <td>63</td>\n      <td>0.0262</td>\n      <td>90.560</td>\n      <td>0.560</td>\n      <td>2008</td>\n      <td>1 2 3 4</td>\n      <td>20</td>\n      <td>48</td>\n      <td>34</td>\n    </tr>\n    <tr>\n      <th>3</th>\n      <td>0.10700</td>\n      <td>amerie</td>\n      <td>0.612</td>\n      <td>238760</td>\n      <td>0.961</td>\n      <td>0.000042</td>\n      <td>10</td>\n      <td>0.0413</td>\n      <td>-3.078</td>\n      <td>60</td>\n      <td>0.3330</td>\n      <td>129.873</td>\n      <td>0.867</td>\n      <td>2005</td>\n      <td>1 thing</td>\n      <td>20</td>\n      <td>38</td>\n      <td>8</td>\n    </tr>\n    <tr>\n      <th>4</th>\n      <td>0.26500</td>\n      <td>drake</td>\n      <td>0.825</td>\n      <td>177733</td>\n      <td>0.756</td>\n      <td>0.000002</td>\n      <td>11</td>\n      <td>0.0762</td>\n      <td>-3.687</td>\n      <td>64</td>\n      <td>0.3830</td>\n      <td>172.938</td>\n      <td>0.888</td>\n      <td>2015</td>\n      <td>10 bands</td>\n      <td>13</td>\n      <td>78</td>\n      <td>58</td>\n    </tr>\n    <tr>\n      <th>...</th>\n      <td>...</td>\n      <td>...</td>\n      <td>...</td>\n      <td>...</td>\n      <td>...</td>\n      <td>...</td>\n      <td>...</td>\n      <td>...</td>\n      <td>...</td>\n      <td>...</td>\n      <td>...</td>\n      <td>...</td>\n      <td>...</td>\n      <td>...</td>\n      <td>...</td>\n      <td>...</td>\n      <td>...</td>\n      <td>...</td>\n    </tr>\n    <tr>\n      <th>10506</th>\n      <td>0.70300</td>\n      <td>ohio express</td>\n      <td>0.738</td>\n      <td>142547</td>\n      <td>0.695</td>\n      <td>0.000873</td>\n      <td>0</td>\n      <td>0.1580</td>\n      <td>-8.108</td>\n      <td>40</td>\n      <td>0.0325</td>\n      <td>131.341</td>\n      <td>0.965</td>\n      <td>1968</td>\n      <td>yummy yummy yummy</td>\n      <td>14</td>\n      <td>23</td>\n      <td>4</td>\n    </tr>\n    <tr>\n      <th>10507</th>\n      <td>0.15000</td>\n      <td>post malone</td>\n      <td>0.738</td>\n      <td>204360</td>\n      <td>0.824</td>\n      <td>0.000000</td>\n      <td>5</td>\n      <td>0.1320</td>\n      <td>-5.165</td>\n      <td>71</td>\n      <td>0.0437</td>\n      <td>138.039</td>\n      <td>0.386</td>\n      <td>2018</td>\n      <td>zack and codeine</td>\n      <td>3</td>\n      <td>43</td>\n      <td>63</td>\n    </tr>\n    <tr>\n      <th>10508</th>\n      <td>0.05170</td>\n      <td>chris brown</td>\n      <td>0.731</td>\n      <td>214600</td>\n      <td>0.818</td>\n      <td>0.000000</td>\n      <td>1</td>\n      <td>0.0743</td>\n      <td>-4.564</td>\n      <td>55</td>\n      <td>0.0638</td>\n      <td>120.993</td>\n      <td>0.812</td>\n      <td>2015</td>\n      <td>zero</td>\n      <td>2</td>\n      <td>80</td>\n      <td>95</td>\n    </tr>\n    <tr>\n      <th>10509</th>\n      <td>0.00756</td>\n      <td>bad wolves</td>\n      <td>0.448</td>\n      <td>254805</td>\n      <td>0.826</td>\n      <td>0.000000</td>\n      <td>2</td>\n      <td>0.1170</td>\n      <td>-3.244</td>\n      <td>72</td>\n      <td>0.0319</td>\n      <td>77.093</td>\n      <td>0.190</td>\n      <td>2018</td>\n      <td>zombie</td>\n      <td>17</td>\n      <td>77</td>\n      <td>61</td>\n    </tr>\n    <tr>\n      <th>10510</th>\n      <td>0.15400</td>\n      <td>herb alpert  the tijuana brass</td>\n      <td>0.531</td>\n      <td>264853</td>\n      <td>0.642</td>\n      <td>0.279000</td>\n      <td>5</td>\n      <td>0.0584</td>\n      <td>-12.702</td>\n      <td>36</td>\n      <td>0.3230</td>\n      <td>82.107</td>\n      <td>0.192</td>\n      <td>1965</td>\n      <td>zorba the greek</td>\n      <td>12</td>\n      <td>34</td>\n      <td>11</td>\n    </tr>\n  </tbody>\n</table>\n<p>10511 rows × 18 columns</p>\n</div>"
     },
     "execution_count": 9,
     "metadata": {},
     "output_type": "execute_result"
    }
   ],
   "source": [
    "df"
   ],
   "metadata": {
    "collapsed": false,
    "ExecuteTime": {
     "end_time": "2024-07-13T06:58:10.315730Z",
     "start_time": "2024-07-13T06:58:10.305733Z"
    }
   },
   "id": "1e6f681d8c315191"
  },
  {
   "cell_type": "code",
   "execution_count": 9,
   "outputs": [],
   "source": [],
   "metadata": {
    "collapsed": false,
    "ExecuteTime": {
     "end_time": "2024-07-13T06:58:10.317508Z",
     "start_time": "2024-07-13T06:58:10.314913Z"
    }
   },
   "id": "8e5533fcdc68b7b2"
  }
 ],
 "metadata": {
  "kernelspec": {
   "display_name": "Python 3",
   "language": "python",
   "name": "python3"
  },
  "language_info": {
   "codemirror_mode": {
    "name": "ipython",
    "version": 2
   },
   "file_extension": ".py",
   "mimetype": "text/x-python",
   "name": "python",
   "nbconvert_exporter": "python",
   "pygments_lexer": "ipython2",
   "version": "2.7.6"
  }
 },
 "nbformat": 4,
 "nbformat_minor": 5
}
