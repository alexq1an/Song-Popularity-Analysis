{
 "cells": [
  {
   "cell_type": "code",
   "execution_count": 16,
   "metadata": {},
   "outputs": [],
   "source": [
    "import requests\n",
    "import base64\n"
   ]
  },
  {
   "cell_type": "code",
   "execution_count": 17,
   "metadata": {},
   "outputs": [
    {
     "ename": "AssertionError",
     "evalue": "",
     "output_type": "error",
     "traceback": [
      "\u001b[0;31m---------------------------------------------------------------------------\u001b[0m",
      "\u001b[0;31mAssertionError\u001b[0m                            Traceback (most recent call last)",
      "Cell \u001b[0;32mIn[17], line 4\u001b[0m\n\u001b[1;32m      2\u001b[0m client_secret \u001b[38;5;241m=\u001b[39m \u001b[38;5;124m'\u001b[39m\u001b[38;5;124mxxx\u001b[39m\u001b[38;5;124m'\u001b[39m \u001b[38;5;66;03m# use your id and key\u001b[39;00m\n\u001b[1;32m      3\u001b[0m \u001b[38;5;66;03m# fill in and comment out assert \u001b[39;00m\n\u001b[0;32m----> 4\u001b[0m \u001b[38;5;28;01massert\u001b[39;00m client_secret \u001b[38;5;241m==\u001b[39m \u001b[38;5;124m'\u001b[39m\u001b[38;5;124mfill your secret\u001b[39m\u001b[38;5;124m'\u001b[39m\n\u001b[1;32m      5\u001b[0m \u001b[38;5;66;03m# Encode client ID and client secret\u001b[39;00m\n\u001b[1;32m      6\u001b[0m client_creds \u001b[38;5;241m=\u001b[39m \u001b[38;5;124mf\u001b[39m\u001b[38;5;124m\"\u001b[39m\u001b[38;5;132;01m{\u001b[39;00mclient_id\u001b[38;5;132;01m}\u001b[39;00m\u001b[38;5;124m:\u001b[39m\u001b[38;5;132;01m{\u001b[39;00mclient_secret\u001b[38;5;132;01m}\u001b[39;00m\u001b[38;5;124m\"\u001b[39m\n",
      "\u001b[0;31mAssertionError\u001b[0m: "
     ]
    }
   ],
   "source": [
    "client_id = 'f18099689fdd43ac9ced954177fcd3e6'\n",
    "client_secret = 'xxx' # use your id and key\n",
    "# fill in and comment out assert \n",
    "assert client_secret == 'fill your secret'\n",
    "# Encode client ID and client secret\n",
    "client_creds = f\"{client_id}:{client_secret}\"\n",
    "client_creds_b64 = base64.b64encode(client_creds.encode())\n",
    "\n",
    "token_url = \"https://accounts.spotify.com/api/token\"\n",
    "token_data = {\n",
    "    \"grant_type\": \"client_credentials\"\n",
    "}\n",
    "token_headers = {\n",
    "    \"Authorization\": f\"Basic {client_creds_b64.decode()}\"\n",
    "}\n",
    "\n",
    "r = requests.post(token_url, data=token_data, headers=token_headers)\n",
    "token_response_data = r.json()\n",
    "access_token = token_response_data['access_token']"
   ]
  },
  {
   "cell_type": "code",
   "execution_count": null,
   "metadata": {},
   "outputs": [],
   "source": [
    "search_url = \"https://api.spotify.com/v1/search\"\n",
    "search_headers = {\n",
    "    \"Authorization\": f\"Bearer {access_token}\"\n",
    "}\n",
    "search_params = {\n",
    "    \"q\": \"Childhood Dreams\",\n",
    "    \"type\": \"track\",\n",
    "    \"limit\": 1\n",
    "}\n",
    "\n",
    "r = requests.get(search_url, headers=search_headers, params=search_params)\n",
    "search_results = r.json()\n",
    "track_id = search_results['tracks']['items'][0]['id']"
   ]
  },
  {
   "cell_type": "code",
   "execution_count": null,
   "metadata": {},
   "outputs": [
    {
     "name": "stdout",
     "output_type": "stream",
     "text": [
      "{'danceability': 0.942, 'energy': 0.476, 'key': 10, 'loudness': -7.778, 'mode': 0, 'speechiness': 0.0499, 'acousticness': 0.191, 'instrumentalness': 0.000487, 'liveness': 0.0949, 'valence': 0.721, 'tempo': 120.984, 'type': 'audio_features', 'id': '0NBkXEbOvbGyUgPHVdW3k1', 'uri': 'spotify:track:0NBkXEbOvbGyUgPHVdW3k1', 'track_href': 'https://api.spotify.com/v1/tracks/0NBkXEbOvbGyUgPHVdW3k1', 'analysis_url': 'https://api.spotify.com/v1/audio-analysis/0NBkXEbOvbGyUgPHVdW3k1', 'duration_ms': 164262, 'time_signature': 4}\n"
     ]
    }
   ],
   "source": [
    "audio_features_url = f\"https://api.spotify.com/v1/audio-features/{track_id}\"\n",
    "audio_features_headers = {\n",
    "    \"Authorization\": f\"Bearer {access_token}\"\n",
    "}\n",
    "\n",
    "r = requests.get(audio_features_url, headers=audio_features_headers)\n",
    "audio_features = r.json()\n",
    "\n",
    "print(audio_features)"
   ]
  }
 ],
 "metadata": {
  "kernelspec": {
   "display_name": "ggbaker",
   "language": "python",
   "name": "python3"
  },
  "language_info": {
   "codemirror_mode": {
    "name": "ipython",
    "version": 3
   },
   "file_extension": ".py",
   "mimetype": "text/x-python",
   "name": "python",
   "nbconvert_exporter": "python",
   "pygments_lexer": "ipython3",
   "version": "3.12.3"
  }
 },
 "nbformat": 4,
 "nbformat_minor": 2
}
