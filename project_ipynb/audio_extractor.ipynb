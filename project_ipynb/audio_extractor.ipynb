{
 "cells": [
  {
   "cell_type": "code",
   "execution_count": 2,
   "metadata": {},
   "outputs": [],
   "source": [
    "import pandas as pd\n",
    "import requests\n",
    "import base64\n",
    "from mutagen.easyid3 import EasyID3\n",
    "from mutagen.flac import FLAC\n",
    "from mutagen.mp3 import MP3"
   ]
  },
  {
   "cell_type": "code",
   "execution_count": 3,
   "metadata": {},
   "outputs": [
    {
     "name": "stdout",
     "output_type": "stream",
     "text": [
      "Title: Childhood Dreams\n",
      "Artist: Seraphine\n",
      "Album: Childhood Dreams\n",
      "Year: Not available\n",
      "Track_number: Not available\n",
      "Genre: Not available\n",
      "Composer: Not available\n",
      "Performer: Not available\n",
      "Length: 164.2615873015873\n",
      "Bitrate: 869743\n",
      "Sample_rate: 44100\n",
      "Channels: 2\n"
     ]
    }
   ],
   "source": [
    "def extract_metadata(file_path):\n",
    "    try:\n",
    "        if file_path.lower().endswith('.mp3'):\n",
    "            audio = MP3(file_path, ID3=EasyID3)\n",
    "        elif file_path.lower().endswith('.flac'):\n",
    "            audio = FLAC(file_path)\n",
    "        else:\n",
    "            print(\"Unsupported file format\")\n",
    "            return\n",
    "\n",
    "        metadata = {\n",
    "            'title': audio.get('title', [None])[0],\n",
    "            'artist': audio.get('artist', [None])[0],\n",
    "            'album': audio.get('album', [None])[0],\n",
    "            'year': audio.get('date', [None])[0],\n",
    "            'track_number': audio.get('tracknumber', [None])[0],\n",
    "            'genre': audio.get('genre', [None])[0],\n",
    "            'composer': audio.get('composer', [None])[0],\n",
    "            'performer': audio.get('performer', [None])[0],\n",
    "            'length': audio.info.length if hasattr(audio, 'info') else None,\n",
    "            'bitrate': audio.info.bitrate if hasattr(audio, 'info') else None,\n",
    "            'sample_rate': audio.info.sample_rate if hasattr(audio, 'info') else None,\n",
    "            'channels': audio.info.channels if hasattr(audio, 'info') else None,\n",
    "        }\n",
    "\n",
    "        for key, value in metadata.items():\n",
    "            if value is None:\n",
    "                print(f\"{key.capitalize()}: Not available\")\n",
    "            else:\n",
    "                print(f\"{key.capitalize()}: {value}\")\n",
    "\n",
    "    except Exception as e:\n",
    "        print(f\"Error: {e}\")\n",
    "\n",
    "# Replace 'your_song_file.mp3' with the path to your local audio file\n",
    "extract_metadata('Seraphine,Jasmine Clarke,Absofacto-Childhood Dreams.flac')"
   ]
  },
  {
   "cell_type": "code",
   "execution_count": 4,
   "metadata": {},
   "outputs": [],
   "source": [
    "client_id = 'f18099689fdd43ac9ced954177fcd3e6'\n",
    "client_secret = 'd0930ca7a5aa4cf6a138a61d4660c165' # use your id and key\n",
    "# fill in and comment out assert \n",
    "assert client_secret != 'fill your secret'\n",
    "# Encode client ID and client secret\n",
    "client_creds = f\"{client_id}:{client_secret}\"\n",
    "client_creds_b64 = base64.b64encode(client_creds.encode())\n",
    "\n",
    "token_url = \"https://accounts.spotify.com/api/token\"\n",
    "token_data = {\n",
    "    \"grant_type\": \"client_credentials\"\n",
    "}\n",
    "token_headers = {\n",
    "    \"Authorization\": f\"Basic {client_creds_b64.decode()}\"\n",
    "}\n",
    "\n",
    "r = requests.post(token_url, data=token_data, headers=token_headers)\n",
    "token_response_data = r.json()\n",
    "access_token = token_response_data['access_token']"
   ]
  },
  {
   "cell_type": "code",
   "execution_count": 5,
   "metadata": {},
   "outputs": [],
   "source": [
    "search_url = \"https://api.spotify.com/v1/search\"\n",
    "search_headers = {\n",
    "    \"Authorization\": f\"Bearer {access_token}\"\n",
    "}\n",
    "search_params = {\n",
    "    \"q\": \"Childhood Dreams\",\n",
    "    \"type\": \"track\",\n",
    "    \"limit\": 1\n",
    "}\n",
    "\n",
    "r = requests.get(search_url, headers=search_headers, params=search_params)\n",
    "search_results = r.json()\n",
    "search_results\n",
    "track_id = search_results['tracks']['items'][0]['id']"
   ]
  },
  {
   "cell_type": "code",
   "execution_count": 8,
   "metadata": {},
   "outputs": [
    {
     "data": {
      "text/plain": [
       "{'danceability': 0.942,\n",
       " 'energy': 0.476,\n",
       " 'key': 10,\n",
       " 'loudness': -7.778,\n",
       " 'mode': 0,\n",
       " 'speechiness': 0.0499,\n",
       " 'acousticness': 0.191,\n",
       " 'instrumentalness': 0.000487,\n",
       " 'liveness': 0.0949,\n",
       " 'valence': 0.721,\n",
       " 'tempo': 120.984,\n",
       " 'type': 'audio_features',\n",
       " 'id': '0NBkXEbOvbGyUgPHVdW3k1',\n",
       " 'uri': 'spotify:track:0NBkXEbOvbGyUgPHVdW3k1',\n",
       " 'track_href': 'https://api.spotify.com/v1/tracks/0NBkXEbOvbGyUgPHVdW3k1',\n",
       " 'analysis_url': 'https://api.spotify.com/v1/audio-analysis/0NBkXEbOvbGyUgPHVdW3k1',\n",
       " 'duration_ms': 164262,\n",
       " 'time_signature': 4}"
      ]
     },
     "execution_count": 8,
     "metadata": {},
     "output_type": "execute_result"
    }
   ],
   "source": [
    "audio_features_url = f\"https://api.spotify.com/v1/audio-features/{track_id}\"\n",
    "audio_features_headers = {\n",
    "    \"Authorization\": f\"Bearer {access_token}\"\n",
    "}\n",
    "\n",
    "r = requests.get(audio_features_url, headers=audio_features_headers)\n",
    "audio_features = r.json()\n",
    "\n",
    "audio_features\n",
    "\n"
   ]
  }
 ],
 "metadata": {
  "kernelspec": {
   "display_name": "ggbaker",
   "language": "python",
   "name": "python3"
  },
  "language_info": {
   "codemirror_mode": {
    "name": "ipython",
    "version": 3
   },
   "file_extension": ".py",
   "mimetype": "text/x-python",
   "name": "python",
   "nbconvert_exporter": "python",
   "pygments_lexer": "ipython3",
   "version": "3.12.3"
  }
 },
 "nbformat": 4,
 "nbformat_minor": 2
}
