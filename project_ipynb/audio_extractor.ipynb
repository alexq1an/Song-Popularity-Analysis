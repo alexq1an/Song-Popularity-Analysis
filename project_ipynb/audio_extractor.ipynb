{
 "cells": [
  {
   "cell_type": "code",
   "execution_count": 5,
   "metadata": {},
   "outputs": [],
   "source": [
    "import pandas as pd\n",
    "import requests\n",
    "import base64\n",
    "from mutagen.easyid3 import EasyID3\n",
    "from mutagen.flac import FLAC\n",
    "from mutagen.mp3 import MP3"
   ]
  },
  {
   "cell_type": "code",
   "execution_count": 6,
   "metadata": {},
   "outputs": [
    {
     "name": "stdout",
     "output_type": "stream",
     "text": [
      "Childhood Dreams\n"
     ]
    },
    {
     "data": {
      "text/html": [
       "<div>\n",
       "<style scoped>\n",
       "    .dataframe tbody tr th:only-of-type {\n",
       "        vertical-align: middle;\n",
       "    }\n",
       "\n",
       "    .dataframe tbody tr th {\n",
       "        vertical-align: top;\n",
       "    }\n",
       "\n",
       "    .dataframe thead th {\n",
       "        text-align: right;\n",
       "    }\n",
       "</style>\n",
       "<table border=\"1\" class=\"dataframe\">\n",
       "  <thead>\n",
       "    <tr style=\"text-align: right;\">\n",
       "      <th></th>\n",
       "      <th>title</th>\n",
       "      <th>artist</th>\n",
       "      <th>album</th>\n",
       "      <th>year</th>\n",
       "      <th>track_number</th>\n",
       "      <th>genre</th>\n",
       "      <th>composer</th>\n",
       "      <th>performer</th>\n",
       "      <th>length</th>\n",
       "      <th>bitrate</th>\n",
       "      <th>sample_rate</th>\n",
       "      <th>channels</th>\n",
       "    </tr>\n",
       "  </thead>\n",
       "  <tbody>\n",
       "    <tr>\n",
       "      <th>0</th>\n",
       "      <td>Childhood Dreams</td>\n",
       "      <td>Seraphine</td>\n",
       "      <td>Childhood Dreams</td>\n",
       "      <td>None</td>\n",
       "      <td>None</td>\n",
       "      <td>None</td>\n",
       "      <td>None</td>\n",
       "      <td>None</td>\n",
       "      <td>164.261587</td>\n",
       "      <td>869743</td>\n",
       "      <td>44100</td>\n",
       "      <td>2</td>\n",
       "    </tr>\n",
       "  </tbody>\n",
       "</table>\n",
       "</div>"
      ],
      "text/plain": [
       "              title     artist             album  year track_number genre  \\\n",
       "0  Childhood Dreams  Seraphine  Childhood Dreams  None         None  None   \n",
       "\n",
       "  composer performer      length  bitrate  sample_rate  channels  \n",
       "0     None      None  164.261587   869743        44100         2  "
      ]
     },
     "execution_count": 6,
     "metadata": {},
     "output_type": "execute_result"
    }
   ],
   "source": [
    "def extract_metadata(file_path):\n",
    "    try:\n",
    "        if file_path.lower().endswith('.mp3'):\n",
    "            audio = MP3(file_path, ID3=EasyID3)\n",
    "        elif file_path.lower().endswith('.flac'):\n",
    "            audio = FLAC(file_path)\n",
    "        else:\n",
    "            print(\"Unsupported file format\")\n",
    "            return None\n",
    "\n",
    "        metadata = {\n",
    "            'title': audio.get('title', [None])[0],\n",
    "            'artist': audio.get('artist', [None])[0],\n",
    "            'album': audio.get('album', [None])[0],\n",
    "            'year': audio.get('date', [None])[0],\n",
    "            'track_number': audio.get('tracknumber', [None])[0],\n",
    "            'genre': audio.get('genre', [None])[0],\n",
    "            'composer': audio.get('composer', [None])[0],\n",
    "            'performer': audio.get('performer', [None])[0],\n",
    "            'length': audio.info.length if hasattr(audio, 'info') else None,\n",
    "            'bitrate': audio.info.bitrate if hasattr(audio, 'info') else None,\n",
    "            'sample_rate': audio.info.sample_rate if hasattr(audio, 'info') else None,\n",
    "            'channels': audio.info.channels if hasattr(audio, 'info') else None,\n",
    "        }\n",
    "\n",
    "        return metadata\n",
    "\n",
    "    except Exception as e:\n",
    "        print(f\"Error: {e}\")\n",
    "        return None\n",
    "\n",
    "# Replace 'your_song_file.mp3' with the path to your local audio file\n",
    "metadata = extract_metadata('Seraphine,Jasmine Clarke,Absofacto-Childhood Dreams.flac')\n",
    "if metadata:\n",
    "    df = pd.DataFrame([metadata])\n",
    "else:\n",
    "    print(\"No metadata extracted.\")\n",
    "\n",
    "song_title = df.loc[0, 'title']\n",
    "print(song_title)\n",
    "df"
   ]
  },
  {
   "cell_type": "code",
   "execution_count": 7,
   "metadata": {},
   "outputs": [],
   "source": [
    "client_id = 'f18099689fdd43ac9ced954177fcd3e6'\n",
    "client_secret = 'd0930ca7a5aa4cf6a138a61d4660c165' # use your id and key\n",
    "# fill in and comment out assert \n",
    "assert client_secret != 'fill your secret'\n",
    "# Encode client ID and client secret\n",
    "client_creds = f\"{client_id}:{client_secret}\"\n",
    "client_creds_b64 = base64.b64encode(client_creds.encode())\n",
    "\n",
    "token_url = \"https://accounts.spotify.com/api/token\"\n",
    "token_data = {\n",
    "    \"grant_type\": \"client_credentials\"\n",
    "}\n",
    "token_headers = {\n",
    "    \"Authorization\": f\"Basic {client_creds_b64.decode()}\"\n",
    "}\n",
    "\n",
    "r = requests.post(token_url, data=token_data, headers=token_headers)\n",
    "token_response_data = r.json()\n",
    "access_token = token_response_data['access_token']"
   ]
  },
  {
   "cell_type": "code",
   "execution_count": 8,
   "metadata": {},
   "outputs": [],
   "source": [
    "search_url = \"https://api.spotify.com/v1/search\"\n",
    "search_headers = {\n",
    "    \"Authorization\": f\"Bearer {access_token}\"\n",
    "}\n",
    "search_params = {\n",
    "    \"q\": song_title,\n",
    "    \"type\": \"track\",\n",
    "    \"limit\": 1\n",
    "}\n",
    "\n",
    "r = requests.get(search_url, headers=search_headers, params=search_params)\n",
    "search_results = r.json()\n",
    "search_results\n",
    "track_id = search_results['tracks']['items'][0]['id']"
   ]
  },
  {
   "cell_type": "code",
   "execution_count": 13,
   "metadata": {},
   "outputs": [],
   "source": [
    "audio_features_url = f\"https://api.spotify.com/v1/audio-features/{track_id}\"\n",
    "audio_features_headers = {\n",
    "    \"Authorization\": f\"Bearer {access_token}\"\n",
    "}\n",
    "\n",
    "r = requests.get(audio_features_url, headers=audio_features_headers)\n",
    "audio_features = r.json()\n",
    "\n",
    "song_features = pd.DataFrame([audio_features])\n",
    "\n",
    "song_features.to_csv('extracted_features_to_predict.csv',index=False)\n",
    "\n"
   ]
  }
 ],
 "metadata": {
  "kernelspec": {
   "display_name": "ggbaker",
   "language": "python",
   "name": "python3"
  },
  "language_info": {
   "codemirror_mode": {
    "name": "ipython",
    "version": 3
   },
   "file_extension": ".py",
   "mimetype": "text/x-python",
   "name": "python",
   "nbconvert_exporter": "python",
   "pygments_lexer": "ipython3",
   "version": "3.12.3"
  }
 },
 "nbformat": 4,
 "nbformat_minor": 2
}
