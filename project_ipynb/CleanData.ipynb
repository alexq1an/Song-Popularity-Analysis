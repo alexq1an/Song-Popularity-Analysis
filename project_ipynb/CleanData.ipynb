{
 "cells": [
  {
   "cell_type": "code",
   "execution_count": 1,
   "id": "initial_id",
   "metadata": {
    "collapsed": true,
    "ExecuteTime": {
     "end_time": "2024-07-30T02:17:47.842070Z",
     "start_time": "2024-07-30T02:17:47.834632Z"
    }
   },
   "outputs": [],
   "source": [
    "import pandas as pd"
   ]
  },
  {
   "cell_type": "code",
   "execution_count": 2,
   "id": "551e1d2f",
   "metadata": {
    "ExecuteTime": {
     "end_time": "2024-07-30T02:17:48.581534Z",
     "start_time": "2024-07-30T02:17:47.841461Z"
    }
   },
   "outputs": [],
   "source": [
    "spotify_df = pd.read_csv('spotify_data.csv')\n",
    "billboard_df = pd.read_csv('billboard_hot_stuff.csv')"
   ]
  },
  {
   "cell_type": "code",
   "execution_count": 3,
   "id": "548cf982",
   "metadata": {
    "ExecuteTime": {
     "end_time": "2024-07-30T02:17:49.085006Z",
     "start_time": "2024-07-30T02:17:48.591703Z"
    }
   },
   "outputs": [],
   "source": [
    "# Standardize song names and artist names\n",
    "spotify_df['name'] = spotify_df['name'].str.lower().str.replace('[^a-zA-Z0-9 ]', '', regex=True)\n",
    "spotify_df['artists'] = spotify_df['artists'].str.lower().str.replace('[^a-zA-Z0-9 ]', '', regex=True)\n",
    "billboard_df['Song'] = billboard_df['Song'].str.lower().str.replace('[^a-zA-Z0-9 ]', '', regex=True)\n",
    "billboard_df['Performer'] = billboard_df['Performer'].str.lower().str.replace('[^a-zA-Z0-9 ]', '', regex=True)\n"
   ]
  },
  {
   "cell_type": "code",
   "execution_count": 4,
   "id": "5cfe2aa9",
   "metadata": {
    "ExecuteTime": {
     "end_time": "2024-07-30T02:17:49.101037Z",
     "start_time": "2024-07-30T02:17:49.087277Z"
    }
   },
   "outputs": [
    {
     "data": {
      "text/plain": "        acousticness                            artists  danceability  \\\n0             0.9950                    carl woitschach         0.708   \n1             0.9940  robert schumann vladimir horowitz         0.379   \n2             0.6040                 seweryn goszczyski         0.749   \n3             0.9950                   francisco canaro         0.781   \n4             0.9900    frdric chopin vladimir horowitz         0.210   \n...              ...                                ...           ...   \n169904        0.1730                    dripreport tyga         0.875   \n169905        0.0167        leon bridges terrace martin         0.719   \n169906        0.5380                     kygo oh wonder         0.514   \n169907        0.0714             cash cash andy grammer         0.646   \n169908        0.1090                     ingrid andress         0.512   \n\n        duration_ms  energy  explicit                      id  \\\n0            158648  0.1950         0  6KbQ3uYMLKb5jDxLF7wYDD   \n1            282133  0.0135         0  6KuQTIu1KoTTkLXKrwlLPV   \n2            104300  0.2200         0  6L63VW0PibdM1HDSBoqnoM   \n3            180760  0.1300         0  6M94FkXd15sOAOQYRnWPN8   \n4            687733  0.2040         0  6N6tiFZ9vLTSOIxkj8qKrd   \n...             ...     ...       ...                     ...   \n169904       163800  0.4430         1  4KppkflX7I3vJQk7urOJaS   \n169905       167468  0.3850         0  1ehhGlTvjtHo2e4xJFB0SZ   \n169906       180700  0.5390         0  52eycxprLhK3lPcRLbQiVk   \n169907       167308  0.7610         0  3wYOGJYD31sLRmBgCvWxa4   \n169908       214787  0.4280         0  60RFlt48hm0l4Fu0JoccOl   \n\n        instrumentalness  key  liveness  loudness  mode  \\\n0               0.563000   10    0.1510   -12.428     1   \n1               0.901000    8    0.0763   -28.454     1   \n2               0.000000    5    0.1190   -19.924     0   \n3               0.887000    1    0.1110   -14.734     0   \n4               0.908000   11    0.0980   -16.829     1   \n...                  ...  ...       ...       ...   ...   \n169904          0.000032    1    0.0891    -7.461     1   \n169905          0.031300    8    0.1110   -10.907     1   \n169906          0.002330    7    0.1080    -9.332     1   \n169907          0.000000    1    0.2220    -2.557     1   \n169908          0.000000    0    0.1050    -7.387     1   \n\n                                              name  popularity release_date  \\\n0                       singende bataillone 1 teil           0         1928   \n1              fantasiestcke op 111 pi tosto lento           0         1928   \n2                     chapter 118  zamek kaniowski           0         1928   \n3       bebamos juntos  instrumental remasterizado           0   1928-09-25   \n4          polonaisefantaisie in aflat major op 61           1         1928   \n...                                            ...         ...          ...   \n169904                   skechers feat tyga  remix          75   2020-05-15   \n169905                 sweeter feat terrace martin          64   2020-06-08   \n169906                            how would i know          70   2020-05-29   \n169907                                 i found you          70   2020-02-28   \n169908                       more hearts than mine          65   2020-03-27   \n\n        speechiness    tempo  valence  year  \n0            0.0506  118.469   0.7790  1928  \n1            0.0462   83.972   0.0767  1928  \n2            0.9290  107.177   0.8800  1928  \n3            0.0926  108.003   0.7200  1928  \n4            0.0424   62.149   0.0693  1928  \n...             ...      ...      ...   ...  \n169904       0.1430  100.012   0.3060  2020  \n169905       0.0403  128.000   0.2700  2020  \n169906       0.1050  123.700   0.1530  2020  \n169907       0.0385  129.916   0.4720  2020  \n169908       0.0271   80.588   0.3660  2020  \n\n[169909 rows x 19 columns]",
      "text/html": "<div>\n<style scoped>\n    .dataframe tbody tr th:only-of-type {\n        vertical-align: middle;\n    }\n\n    .dataframe tbody tr th {\n        vertical-align: top;\n    }\n\n    .dataframe thead th {\n        text-align: right;\n    }\n</style>\n<table border=\"1\" class=\"dataframe\">\n  <thead>\n    <tr style=\"text-align: right;\">\n      <th></th>\n      <th>acousticness</th>\n      <th>artists</th>\n      <th>danceability</th>\n      <th>duration_ms</th>\n      <th>energy</th>\n      <th>explicit</th>\n      <th>id</th>\n      <th>instrumentalness</th>\n      <th>key</th>\n      <th>liveness</th>\n      <th>loudness</th>\n      <th>mode</th>\n      <th>name</th>\n      <th>popularity</th>\n      <th>release_date</th>\n      <th>speechiness</th>\n      <th>tempo</th>\n      <th>valence</th>\n      <th>year</th>\n    </tr>\n  </thead>\n  <tbody>\n    <tr>\n      <th>0</th>\n      <td>0.9950</td>\n      <td>carl woitschach</td>\n      <td>0.708</td>\n      <td>158648</td>\n      <td>0.1950</td>\n      <td>0</td>\n      <td>6KbQ3uYMLKb5jDxLF7wYDD</td>\n      <td>0.563000</td>\n      <td>10</td>\n      <td>0.1510</td>\n      <td>-12.428</td>\n      <td>1</td>\n      <td>singende bataillone 1 teil</td>\n      <td>0</td>\n      <td>1928</td>\n      <td>0.0506</td>\n      <td>118.469</td>\n      <td>0.7790</td>\n      <td>1928</td>\n    </tr>\n    <tr>\n      <th>1</th>\n      <td>0.9940</td>\n      <td>robert schumann vladimir horowitz</td>\n      <td>0.379</td>\n      <td>282133</td>\n      <td>0.0135</td>\n      <td>0</td>\n      <td>6KuQTIu1KoTTkLXKrwlLPV</td>\n      <td>0.901000</td>\n      <td>8</td>\n      <td>0.0763</td>\n      <td>-28.454</td>\n      <td>1</td>\n      <td>fantasiestcke op 111 pi tosto lento</td>\n      <td>0</td>\n      <td>1928</td>\n      <td>0.0462</td>\n      <td>83.972</td>\n      <td>0.0767</td>\n      <td>1928</td>\n    </tr>\n    <tr>\n      <th>2</th>\n      <td>0.6040</td>\n      <td>seweryn goszczyski</td>\n      <td>0.749</td>\n      <td>104300</td>\n      <td>0.2200</td>\n      <td>0</td>\n      <td>6L63VW0PibdM1HDSBoqnoM</td>\n      <td>0.000000</td>\n      <td>5</td>\n      <td>0.1190</td>\n      <td>-19.924</td>\n      <td>0</td>\n      <td>chapter 118  zamek kaniowski</td>\n      <td>0</td>\n      <td>1928</td>\n      <td>0.9290</td>\n      <td>107.177</td>\n      <td>0.8800</td>\n      <td>1928</td>\n    </tr>\n    <tr>\n      <th>3</th>\n      <td>0.9950</td>\n      <td>francisco canaro</td>\n      <td>0.781</td>\n      <td>180760</td>\n      <td>0.1300</td>\n      <td>0</td>\n      <td>6M94FkXd15sOAOQYRnWPN8</td>\n      <td>0.887000</td>\n      <td>1</td>\n      <td>0.1110</td>\n      <td>-14.734</td>\n      <td>0</td>\n      <td>bebamos juntos  instrumental remasterizado</td>\n      <td>0</td>\n      <td>1928-09-25</td>\n      <td>0.0926</td>\n      <td>108.003</td>\n      <td>0.7200</td>\n      <td>1928</td>\n    </tr>\n    <tr>\n      <th>4</th>\n      <td>0.9900</td>\n      <td>frdric chopin vladimir horowitz</td>\n      <td>0.210</td>\n      <td>687733</td>\n      <td>0.2040</td>\n      <td>0</td>\n      <td>6N6tiFZ9vLTSOIxkj8qKrd</td>\n      <td>0.908000</td>\n      <td>11</td>\n      <td>0.0980</td>\n      <td>-16.829</td>\n      <td>1</td>\n      <td>polonaisefantaisie in aflat major op 61</td>\n      <td>1</td>\n      <td>1928</td>\n      <td>0.0424</td>\n      <td>62.149</td>\n      <td>0.0693</td>\n      <td>1928</td>\n    </tr>\n    <tr>\n      <th>...</th>\n      <td>...</td>\n      <td>...</td>\n      <td>...</td>\n      <td>...</td>\n      <td>...</td>\n      <td>...</td>\n      <td>...</td>\n      <td>...</td>\n      <td>...</td>\n      <td>...</td>\n      <td>...</td>\n      <td>...</td>\n      <td>...</td>\n      <td>...</td>\n      <td>...</td>\n      <td>...</td>\n      <td>...</td>\n      <td>...</td>\n      <td>...</td>\n    </tr>\n    <tr>\n      <th>169904</th>\n      <td>0.1730</td>\n      <td>dripreport tyga</td>\n      <td>0.875</td>\n      <td>163800</td>\n      <td>0.4430</td>\n      <td>1</td>\n      <td>4KppkflX7I3vJQk7urOJaS</td>\n      <td>0.000032</td>\n      <td>1</td>\n      <td>0.0891</td>\n      <td>-7.461</td>\n      <td>1</td>\n      <td>skechers feat tyga  remix</td>\n      <td>75</td>\n      <td>2020-05-15</td>\n      <td>0.1430</td>\n      <td>100.012</td>\n      <td>0.3060</td>\n      <td>2020</td>\n    </tr>\n    <tr>\n      <th>169905</th>\n      <td>0.0167</td>\n      <td>leon bridges terrace martin</td>\n      <td>0.719</td>\n      <td>167468</td>\n      <td>0.3850</td>\n      <td>0</td>\n      <td>1ehhGlTvjtHo2e4xJFB0SZ</td>\n      <td>0.031300</td>\n      <td>8</td>\n      <td>0.1110</td>\n      <td>-10.907</td>\n      <td>1</td>\n      <td>sweeter feat terrace martin</td>\n      <td>64</td>\n      <td>2020-06-08</td>\n      <td>0.0403</td>\n      <td>128.000</td>\n      <td>0.2700</td>\n      <td>2020</td>\n    </tr>\n    <tr>\n      <th>169906</th>\n      <td>0.5380</td>\n      <td>kygo oh wonder</td>\n      <td>0.514</td>\n      <td>180700</td>\n      <td>0.5390</td>\n      <td>0</td>\n      <td>52eycxprLhK3lPcRLbQiVk</td>\n      <td>0.002330</td>\n      <td>7</td>\n      <td>0.1080</td>\n      <td>-9.332</td>\n      <td>1</td>\n      <td>how would i know</td>\n      <td>70</td>\n      <td>2020-05-29</td>\n      <td>0.1050</td>\n      <td>123.700</td>\n      <td>0.1530</td>\n      <td>2020</td>\n    </tr>\n    <tr>\n      <th>169907</th>\n      <td>0.0714</td>\n      <td>cash cash andy grammer</td>\n      <td>0.646</td>\n      <td>167308</td>\n      <td>0.7610</td>\n      <td>0</td>\n      <td>3wYOGJYD31sLRmBgCvWxa4</td>\n      <td>0.000000</td>\n      <td>1</td>\n      <td>0.2220</td>\n      <td>-2.557</td>\n      <td>1</td>\n      <td>i found you</td>\n      <td>70</td>\n      <td>2020-02-28</td>\n      <td>0.0385</td>\n      <td>129.916</td>\n      <td>0.4720</td>\n      <td>2020</td>\n    </tr>\n    <tr>\n      <th>169908</th>\n      <td>0.1090</td>\n      <td>ingrid andress</td>\n      <td>0.512</td>\n      <td>214787</td>\n      <td>0.4280</td>\n      <td>0</td>\n      <td>60RFlt48hm0l4Fu0JoccOl</td>\n      <td>0.000000</td>\n      <td>0</td>\n      <td>0.1050</td>\n      <td>-7.387</td>\n      <td>1</td>\n      <td>more hearts than mine</td>\n      <td>65</td>\n      <td>2020-03-27</td>\n      <td>0.0271</td>\n      <td>80.588</td>\n      <td>0.3660</td>\n      <td>2020</td>\n    </tr>\n  </tbody>\n</table>\n<p>169909 rows × 19 columns</p>\n</div>"
     },
     "execution_count": 4,
     "metadata": {},
     "output_type": "execute_result"
    }
   ],
   "source": [
    "spotify_df"
   ]
  },
  {
   "cell_type": "code",
   "execution_count": 5,
   "id": "b1de95eaec616aa4",
   "metadata": {
    "collapsed": false,
    "ExecuteTime": {
     "end_time": "2024-07-30T02:17:49.215040Z",
     "start_time": "2024-07-30T02:17:49.099192Z"
    }
   },
   "outputs": [],
   "source": [
    "# Clean spotify dataset\n",
    "# Drop unnecessary columns\n",
    "columns_to_drop = ['explicit', 'id', 'mode', 'release_date']\n",
    "spotify_df = spotify_df.loc[:, ~spotify_df.columns.isin(columns_to_drop)]\n",
    "spotify_df = spotify_df.dropna()\n",
    "cleaned_spotify = spotify_df.drop_duplicates()"
   ]
  },
  {
   "cell_type": "code",
   "execution_count": 6,
   "id": "787437fd",
   "metadata": {
    "ExecuteTime": {
     "end_time": "2024-07-30T02:17:49.227192Z",
     "start_time": "2024-07-30T02:17:49.209922Z"
    }
   },
   "outputs": [
    {
     "data": {
      "text/plain": "                                                      url      WeekID  \\\n0       http://www.billboard.com/charts/hot-100/1965-0...   7/17/1965   \n1       http://www.billboard.com/charts/hot-100/1965-0...   7/24/1965   \n2       http://www.billboard.com/charts/hot-100/1965-0...   7/31/1965   \n3       http://www.billboard.com/charts/hot-100/1965-0...    8/7/1965   \n4       http://www.billboard.com/charts/hot-100/1965-0...   8/14/1965   \n...                                                   ...         ...   \n327890  https://www.billboard.com/charts/hot-100/2018-...  10/20/2018   \n327891  http://www.billboard.com/charts/hot-100/1977-0...   5/21/1977   \n327892  http://www.billboard.com/charts/hot-100/1981-0...   5/23/1981   \n327893  http://www.billboard.com/charts/hot-100/1973-0...   9/29/1973   \n327894  https://www.billboard.com/charts/hot-100/2020-...  11/28/2020   \n\n        Week Position                     Song                  Performer  \\\n0                  34    dont just stand there                 patty duke   \n1                  22    dont just stand there                 patty duke   \n2                  14    dont just stand there                 patty duke   \n3                  10    dont just stand there                 patty duke   \n4                   8    dont just stand there                 patty duke   \n...               ...                      ...                        ...   \n327890             22           god is a woman              ariana grande   \n327891             22  i wanna get next to you                 rose royce   \n327892             22          i cant stand it  eric clapton and his band   \n327893             22  here i am come  take me                   al green   \n327894             22                    hawai         maluma  the weeknd   \n\n                                           SongID  Instance  \\\n0                Don't Just Stand TherePatty Duke         1   \n1                Don't Just Stand TherePatty Duke         1   \n2                Don't Just Stand TherePatty Duke         1   \n3                Don't Just Stand TherePatty Duke         1   \n4                Don't Just Stand TherePatty Duke         1   \n...                                           ...       ...   \n327890                God Is A WomanAriana Grande         1   \n327891          I Wanna Get Next To YouRose Royce         1   \n327892  I Can't Stand ItEric Clapton And His Band         1   \n327893           Here I Am Come & Take MeAl Green         1   \n327894                   HawaiMaluma & The Weeknd         1   \n\n        Previous Week Position  Peak Position  Weeks on Chart  \n0                         45.0             34               4  \n1                         34.0             22               5  \n2                         22.0             14               6  \n3                         14.0             10               7  \n4                         10.0              8               8  \n...                        ...            ...             ...  \n327890                    21.0              8              13  \n327891                    10.0             10              13  \n327892                    12.0             10              13  \n327893                    16.0             10              13  \n327894                    12.0             12              13  \n\n[327895 rows x 10 columns]",
      "text/html": "<div>\n<style scoped>\n    .dataframe tbody tr th:only-of-type {\n        vertical-align: middle;\n    }\n\n    .dataframe tbody tr th {\n        vertical-align: top;\n    }\n\n    .dataframe thead th {\n        text-align: right;\n    }\n</style>\n<table border=\"1\" class=\"dataframe\">\n  <thead>\n    <tr style=\"text-align: right;\">\n      <th></th>\n      <th>url</th>\n      <th>WeekID</th>\n      <th>Week Position</th>\n      <th>Song</th>\n      <th>Performer</th>\n      <th>SongID</th>\n      <th>Instance</th>\n      <th>Previous Week Position</th>\n      <th>Peak Position</th>\n      <th>Weeks on Chart</th>\n    </tr>\n  </thead>\n  <tbody>\n    <tr>\n      <th>0</th>\n      <td>http://www.billboard.com/charts/hot-100/1965-0...</td>\n      <td>7/17/1965</td>\n      <td>34</td>\n      <td>dont just stand there</td>\n      <td>patty duke</td>\n      <td>Don't Just Stand TherePatty Duke</td>\n      <td>1</td>\n      <td>45.0</td>\n      <td>34</td>\n      <td>4</td>\n    </tr>\n    <tr>\n      <th>1</th>\n      <td>http://www.billboard.com/charts/hot-100/1965-0...</td>\n      <td>7/24/1965</td>\n      <td>22</td>\n      <td>dont just stand there</td>\n      <td>patty duke</td>\n      <td>Don't Just Stand TherePatty Duke</td>\n      <td>1</td>\n      <td>34.0</td>\n      <td>22</td>\n      <td>5</td>\n    </tr>\n    <tr>\n      <th>2</th>\n      <td>http://www.billboard.com/charts/hot-100/1965-0...</td>\n      <td>7/31/1965</td>\n      <td>14</td>\n      <td>dont just stand there</td>\n      <td>patty duke</td>\n      <td>Don't Just Stand TherePatty Duke</td>\n      <td>1</td>\n      <td>22.0</td>\n      <td>14</td>\n      <td>6</td>\n    </tr>\n    <tr>\n      <th>3</th>\n      <td>http://www.billboard.com/charts/hot-100/1965-0...</td>\n      <td>8/7/1965</td>\n      <td>10</td>\n      <td>dont just stand there</td>\n      <td>patty duke</td>\n      <td>Don't Just Stand TherePatty Duke</td>\n      <td>1</td>\n      <td>14.0</td>\n      <td>10</td>\n      <td>7</td>\n    </tr>\n    <tr>\n      <th>4</th>\n      <td>http://www.billboard.com/charts/hot-100/1965-0...</td>\n      <td>8/14/1965</td>\n      <td>8</td>\n      <td>dont just stand there</td>\n      <td>patty duke</td>\n      <td>Don't Just Stand TherePatty Duke</td>\n      <td>1</td>\n      <td>10.0</td>\n      <td>8</td>\n      <td>8</td>\n    </tr>\n    <tr>\n      <th>...</th>\n      <td>...</td>\n      <td>...</td>\n      <td>...</td>\n      <td>...</td>\n      <td>...</td>\n      <td>...</td>\n      <td>...</td>\n      <td>...</td>\n      <td>...</td>\n      <td>...</td>\n    </tr>\n    <tr>\n      <th>327890</th>\n      <td>https://www.billboard.com/charts/hot-100/2018-...</td>\n      <td>10/20/2018</td>\n      <td>22</td>\n      <td>god is a woman</td>\n      <td>ariana grande</td>\n      <td>God Is A WomanAriana Grande</td>\n      <td>1</td>\n      <td>21.0</td>\n      <td>8</td>\n      <td>13</td>\n    </tr>\n    <tr>\n      <th>327891</th>\n      <td>http://www.billboard.com/charts/hot-100/1977-0...</td>\n      <td>5/21/1977</td>\n      <td>22</td>\n      <td>i wanna get next to you</td>\n      <td>rose royce</td>\n      <td>I Wanna Get Next To YouRose Royce</td>\n      <td>1</td>\n      <td>10.0</td>\n      <td>10</td>\n      <td>13</td>\n    </tr>\n    <tr>\n      <th>327892</th>\n      <td>http://www.billboard.com/charts/hot-100/1981-0...</td>\n      <td>5/23/1981</td>\n      <td>22</td>\n      <td>i cant stand it</td>\n      <td>eric clapton and his band</td>\n      <td>I Can't Stand ItEric Clapton And His Band</td>\n      <td>1</td>\n      <td>12.0</td>\n      <td>10</td>\n      <td>13</td>\n    </tr>\n    <tr>\n      <th>327893</th>\n      <td>http://www.billboard.com/charts/hot-100/1973-0...</td>\n      <td>9/29/1973</td>\n      <td>22</td>\n      <td>here i am come  take me</td>\n      <td>al green</td>\n      <td>Here I Am Come &amp; Take MeAl Green</td>\n      <td>1</td>\n      <td>16.0</td>\n      <td>10</td>\n      <td>13</td>\n    </tr>\n    <tr>\n      <th>327894</th>\n      <td>https://www.billboard.com/charts/hot-100/2020-...</td>\n      <td>11/28/2020</td>\n      <td>22</td>\n      <td>hawai</td>\n      <td>maluma  the weeknd</td>\n      <td>HawaiMaluma &amp; The Weeknd</td>\n      <td>1</td>\n      <td>12.0</td>\n      <td>12</td>\n      <td>13</td>\n    </tr>\n  </tbody>\n</table>\n<p>327895 rows × 10 columns</p>\n</div>"
     },
     "execution_count": 6,
     "metadata": {},
     "output_type": "execute_result"
    }
   ],
   "source": [
    "billboard_df"
   ]
  },
  {
   "cell_type": "code",
   "execution_count": 7,
   "id": "b22b0eeed2408230",
   "metadata": {
    "ExecuteTime": {
     "end_time": "2024-07-30T02:17:49.332171Z",
     "start_time": "2024-07-30T02:17:49.217990Z"
    }
   },
   "outputs": [
    {
     "name": "stdout",
     "output_type": "stream",
     "text": [
      "<class 'pandas.core.frame.DataFrame'>\n",
      "RangeIndex: 169909 entries, 0 to 169908\n",
      "Data columns (total 15 columns):\n",
      " #   Column            Non-Null Count   Dtype  \n",
      "---  ------            --------------   -----  \n",
      " 0   acousticness      169909 non-null  float64\n",
      " 1   artists           169909 non-null  object \n",
      " 2   danceability      169909 non-null  float64\n",
      " 3   duration_ms       169909 non-null  int64  \n",
      " 4   energy            169909 non-null  float64\n",
      " 5   instrumentalness  169909 non-null  float64\n",
      " 6   key               169909 non-null  int64  \n",
      " 7   liveness          169909 non-null  float64\n",
      " 8   loudness          169909 non-null  float64\n",
      " 9   name              169909 non-null  object \n",
      " 10  popularity        169909 non-null  int64  \n",
      " 11  speechiness       169909 non-null  float64\n",
      " 12  tempo             169909 non-null  float64\n",
      " 13  valence           169909 non-null  float64\n",
      " 14  year              169909 non-null  int64  \n",
      "dtypes: float64(9), int64(4), object(2)\n",
      "memory usage: 19.4+ MB\n",
      "None\n",
      "        acousticness   danceability   duration_ms         energy  \\\n",
      "count  169909.000000  169909.000000  1.699090e+05  169909.000000   \n",
      "mean        0.493214       0.538150  2.314062e+05       0.488593   \n",
      "std         0.376627       0.175346  1.213219e+05       0.267390   \n",
      "min         0.000000       0.000000  5.108000e+03       0.000000   \n",
      "25%         0.094500       0.417000  1.710400e+05       0.263000   \n",
      "50%         0.492000       0.548000  2.086000e+05       0.481000   \n",
      "75%         0.888000       0.667000  2.629600e+05       0.710000   \n",
      "max         0.996000       0.988000  5.403500e+06       1.000000   \n",
      "\n",
      "       instrumentalness            key       liveness       loudness  \\\n",
      "count     169909.000000  169909.000000  169909.000000  169909.000000   \n",
      "mean           0.161937       5.200519       0.206690     -11.370289   \n",
      "std            0.309329       3.515257       0.176796       5.666765   \n",
      "min            0.000000       0.000000       0.000000     -60.000000   \n",
      "25%            0.000000       2.000000       0.098400     -14.470000   \n",
      "50%            0.000204       5.000000       0.135000     -10.474000   \n",
      "75%            0.086800       8.000000       0.263000      -7.118000   \n",
      "max            1.000000      11.000000       1.000000       3.855000   \n",
      "\n",
      "          popularity    speechiness          tempo        valence  \\\n",
      "count  169909.000000  169909.000000  169909.000000  169909.000000   \n",
      "mean       31.556610       0.094058     116.948017       0.532095   \n",
      "std        21.582614       0.149937      30.726937       0.262408   \n",
      "min         0.000000       0.000000       0.000000       0.000000   \n",
      "25%        12.000000       0.034900      93.516000       0.322000   \n",
      "50%        33.000000       0.045000     114.778000       0.544000   \n",
      "75%        48.000000       0.075400     135.712000       0.749000   \n",
      "max       100.000000       0.969000     244.091000       1.000000   \n",
      "\n",
      "                year  \n",
      "count  169909.000000  \n",
      "mean     1977.223231  \n",
      "std        25.593168  \n",
      "min      1921.000000  \n",
      "25%      1957.000000  \n",
      "50%      1978.000000  \n",
      "75%      1999.000000  \n",
      "max      2020.000000  \n"
     ]
    }
   ],
   "source": [
    "print(spotify_df.info())\n",
    "print(spotify_df.describe())"
   ]
  },
  {
   "cell_type": "code",
   "execution_count": 8,
   "id": "47da65db",
   "metadata": {
    "ExecuteTime": {
     "end_time": "2024-07-30T02:17:49.405706Z",
     "start_time": "2024-07-30T02:17:49.326732Z"
    }
   },
   "outputs": [
    {
     "name": "stdout",
     "output_type": "stream",
     "text": [
      "<class 'pandas.core.frame.DataFrame'>\n",
      "RangeIndex: 327895 entries, 0 to 327894\n",
      "Data columns (total 10 columns):\n",
      " #   Column                  Non-Null Count   Dtype  \n",
      "---  ------                  --------------   -----  \n",
      " 0   url                     327895 non-null  object \n",
      " 1   WeekID                  327895 non-null  object \n",
      " 2   Week Position           327895 non-null  int64  \n",
      " 3   Song                    327895 non-null  object \n",
      " 4   Performer               327895 non-null  object \n",
      " 5   SongID                  327895 non-null  object \n",
      " 6   Instance                327895 non-null  int64  \n",
      " 7   Previous Week Position  295941 non-null  float64\n",
      " 8   Peak Position           327895 non-null  int64  \n",
      " 9   Weeks on Chart          327895 non-null  int64  \n",
      "dtypes: float64(1), int64(4), object(5)\n",
      "memory usage: 25.0+ MB\n",
      "None\n",
      "       Week Position       Instance  Previous Week Position  Peak Position  \\\n",
      "count  327895.000000  327895.000000           295941.000000  327895.000000   \n",
      "mean       50.499309       1.072538               47.604066      41.358307   \n",
      "std        28.865707       0.334188               28.056915      29.542497   \n",
      "min         1.000000       1.000000                1.000000       1.000000   \n",
      "25%        25.500000       1.000000               23.000000      14.000000   \n",
      "50%        50.000000       1.000000               47.000000      39.000000   \n",
      "75%        75.000000       1.000000               72.000000      66.000000   \n",
      "max       100.000000      10.000000              100.000000     100.000000   \n",
      "\n",
      "       Weeks on Chart  \n",
      "count   327895.000000  \n",
      "mean         9.153793  \n",
      "std          7.590281  \n",
      "min          1.000000  \n",
      "25%          4.000000  \n",
      "50%          7.000000  \n",
      "75%         13.000000  \n",
      "max         87.000000  \n"
     ]
    }
   ],
   "source": [
    "print(billboard_df.info())\n",
    "print(billboard_df.describe())"
   ]
  },
  {
   "cell_type": "code",
   "execution_count": 9,
   "id": "b98897dc",
   "metadata": {
    "ExecuteTime": {
     "end_time": "2024-07-30T02:17:49.628211Z",
     "start_time": "2024-07-30T02:17:49.409212Z"
    }
   },
   "outputs": [
    {
     "data": {
      "text/plain": "                         Song                       Performer  Weeks on Chart  \\\n0      0 to 100  the catch up                           drake              20   \n1            03 bonnie  clyde  jayz featuring beyonce knowles              23   \n2                           1                           nelly              20   \n3                     1 2 3 4                  plain white ts              20   \n4          1 2 3 4 sumpin new                          coolio              21   \n...                       ...                             ...             ...   \n26671          zipadee doodah   bob b soxx and the blue jeans              13   \n26672                  zombie                      bad wolves              17   \n26673                    zoom   lil boosie featuring yung joc              12   \n26674         zorba the greek  herb alpert  the tijuana brass              12   \n26675              zunga zeng                              k7              15   \n\n       Average Previous Week Position  Week Position  \n0                                54.0           66.0  \n1                                86.0           97.0  \n2                                63.0           79.0  \n3                                53.0           67.0  \n4                                77.0           96.0  \n...                               ...            ...  \n26671                            72.0           93.0  \n26672                            23.0           39.0  \n26673                            29.0           39.0  \n26674                            67.0           90.0  \n26675                            29.0           39.0  \n\n[26676 rows x 5 columns]",
      "text/html": "<div>\n<style scoped>\n    .dataframe tbody tr th:only-of-type {\n        vertical-align: middle;\n    }\n\n    .dataframe tbody tr th {\n        vertical-align: top;\n    }\n\n    .dataframe thead th {\n        text-align: right;\n    }\n</style>\n<table border=\"1\" class=\"dataframe\">\n  <thead>\n    <tr style=\"text-align: right;\">\n      <th></th>\n      <th>Song</th>\n      <th>Performer</th>\n      <th>Weeks on Chart</th>\n      <th>Average Previous Week Position</th>\n      <th>Week Position</th>\n    </tr>\n  </thead>\n  <tbody>\n    <tr>\n      <th>0</th>\n      <td>0 to 100  the catch up</td>\n      <td>drake</td>\n      <td>20</td>\n      <td>54.0</td>\n      <td>66.0</td>\n    </tr>\n    <tr>\n      <th>1</th>\n      <td>03 bonnie  clyde</td>\n      <td>jayz featuring beyonce knowles</td>\n      <td>23</td>\n      <td>86.0</td>\n      <td>97.0</td>\n    </tr>\n    <tr>\n      <th>2</th>\n      <td>1</td>\n      <td>nelly</td>\n      <td>20</td>\n      <td>63.0</td>\n      <td>79.0</td>\n    </tr>\n    <tr>\n      <th>3</th>\n      <td>1 2 3 4</td>\n      <td>plain white ts</td>\n      <td>20</td>\n      <td>53.0</td>\n      <td>67.0</td>\n    </tr>\n    <tr>\n      <th>4</th>\n      <td>1 2 3 4 sumpin new</td>\n      <td>coolio</td>\n      <td>21</td>\n      <td>77.0</td>\n      <td>96.0</td>\n    </tr>\n    <tr>\n      <th>...</th>\n      <td>...</td>\n      <td>...</td>\n      <td>...</td>\n      <td>...</td>\n      <td>...</td>\n    </tr>\n    <tr>\n      <th>26671</th>\n      <td>zipadee doodah</td>\n      <td>bob b soxx and the blue jeans</td>\n      <td>13</td>\n      <td>72.0</td>\n      <td>93.0</td>\n    </tr>\n    <tr>\n      <th>26672</th>\n      <td>zombie</td>\n      <td>bad wolves</td>\n      <td>17</td>\n      <td>23.0</td>\n      <td>39.0</td>\n    </tr>\n    <tr>\n      <th>26673</th>\n      <td>zoom</td>\n      <td>lil boosie featuring yung joc</td>\n      <td>12</td>\n      <td>29.0</td>\n      <td>39.0</td>\n    </tr>\n    <tr>\n      <th>26674</th>\n      <td>zorba the greek</td>\n      <td>herb alpert  the tijuana brass</td>\n      <td>12</td>\n      <td>67.0</td>\n      <td>90.0</td>\n    </tr>\n    <tr>\n      <th>26675</th>\n      <td>zunga zeng</td>\n      <td>k7</td>\n      <td>15</td>\n      <td>29.0</td>\n      <td>39.0</td>\n    </tr>\n  </tbody>\n</table>\n<p>26676 rows × 5 columns</p>\n</div>"
     },
     "execution_count": 9,
     "metadata": {},
     "output_type": "execute_result"
    }
   ],
   "source": [
    "# Clean billboard dataset\n",
    "# Select the required columns\n",
    "selected_columns = ['Song', 'Performer', 'Week Position', 'Weeks on Chart', 'Previous Week Position']\n",
    "df_selected = billboard_df[selected_columns].copy()\n",
    "\n",
    "# Ensure the 'Previous Week Position' is numeric\n",
    "df_selected['Previous Week Position'] = pd.to_numeric(df_selected['Previous Week Position'], errors='coerce')\n",
    "\n",
    "# Drop rows with NaN values in the 'Previous Week Position' column after conversion\n",
    "df_selected = df_selected.dropna(subset=['Previous Week Position'])\n",
    "\n",
    "# Calculate the maximum 'Weeks on Chart' for each song and performer\n",
    "df_max_weeks = df_selected.groupby(['Song', 'Performer'], as_index=False)['Weeks on Chart'].max()\n",
    "\n",
    "# Calculate the average 'Previous Week Position' for each song and performer\n",
    "df_avg_previous_week = df_selected.groupby(['Song', 'Performer'], as_index=False)['Previous Week Position'].mean()\n",
    "df_avg_previous_week.rename(columns={'Previous Week Position': 'Average Previous Week Position'}, inplace=True)\n",
    "\n",
    "# Convert the average 'Previous Week Position' to integer\n",
    "df_avg_previous_week['Average Previous Week Position'] = df_avg_previous_week['Average Previous Week Position'].round().astype(int)\n",
    "\n",
    "# Calculate the maximum 'Week Position' for each song and performer\n",
    "df_max_week_position = df_selected.groupby(['Song', 'Performer'], as_index=False)['Week Position'].min()\n",
    "\n",
    "# Merge the results\n",
    "cleaned_billboard = df_max_weeks.merge(df_avg_previous_week, on=['Song', 'Performer'])\n",
    "cleaned_billboard = cleaned_billboard.merge(df_max_week_position, on=['Song', 'Performer'])\n",
    "\n",
    "cleaned_billboard['Average Previous Week Position'] = round((100 - cleaned_billboard['Average Previous Week Position']) / 99 * 100)\n",
    "cleaned_billboard['Week Position'] = round((100 - cleaned_billboard['Week Position'])/ 99 * 100)\n",
    "\n",
    "# Save the cleaned dataset to a CSV file\n",
    "# cleaned_billboard.to_csv(\"billboard.csv\", index=False)\n",
    "\n",
    "# Display the cleaned DataFrame\n",
    "cleaned_billboard"
   ]
  },
  {
   "cell_type": "code",
   "execution_count": 10,
   "id": "b82adfa0253e8b61",
   "metadata": {
    "ExecuteTime": {
     "end_time": "2024-07-30T02:17:49.695763Z",
     "start_time": "2024-07-30T02:17:49.628613Z"
    }
   },
   "outputs": [],
   "source": [
    "# Create a combined key for better matching in cleaned spotify and billborad dataset\n",
    "cleaned_spotify = cleaned_spotify.copy() \n",
    "cleaned_spotify.loc[:, 'combined_key'] = (cleaned_spotify['name'] + ' ' + cleaned_spotify['artists']).astype(str)\n",
    "cleaned_billboard = cleaned_billboard.copy()\n",
    "cleaned_billboard.loc[:, 'combined_key'] = (cleaned_billboard['Song'] + ' ' + cleaned_billboard['Performer']).astype(str)"
   ]
  },
  {
   "cell_type": "code",
   "execution_count": 11,
   "id": "8b8d879f73869b85",
   "metadata": {
    "ExecuteTime": {
     "end_time": "2024-07-30T02:17:49.731359Z",
     "start_time": "2024-07-30T02:17:49.666675Z"
    }
   },
   "outputs": [],
   "source": [
    "# Merge datasets on the key\n",
    "combined_df = pd.merge(cleaned_spotify, cleaned_billboard, on='combined_key', how='inner')\n",
    "# Drop duplicate rows in the combined dataframe\n",
    "combined_df = combined_df.drop_duplicates()\n",
    "\n",
    "# Drop unnecessary columns in the combined dataframe\n",
    "columns_to_drop_combined = ['Performer', 'name', 'combined_key']\n",
    "combined_df = combined_df.drop(columns=columns_to_drop_combined)"
   ]
  },
  {
   "cell_type": "code",
   "execution_count": 12,
   "id": "a62baa5f3cbc180d",
   "metadata": {
    "collapsed": false,
    "ExecuteTime": {
     "end_time": "2024-07-30T02:17:49.738663Z",
     "start_time": "2024-07-30T02:17:49.735209Z"
    }
   },
   "outputs": [
    {
     "name": "stdout",
     "output_type": "stream",
     "text": [
      "Index(['acousticness', 'artists', 'danceability', 'duration_ms', 'energy',\n",
      "       'instrumentalness', 'key', 'liveness', 'loudness', 'popularity',\n",
      "       'speechiness', 'tempo', 'valence', 'year', 'Song', 'Weeks on Chart',\n",
      "       'Average Previous Week Position', 'Week Position'],\n",
      "      dtype='object')\n",
      "acousticness                      float64\n",
      "artists                            object\n",
      "danceability                      float64\n",
      "duration_ms                         int64\n",
      "energy                            float64\n",
      "instrumentalness                  float64\n",
      "key                                 int64\n",
      "liveness                          float64\n",
      "loudness                          float64\n",
      "popularity                          int64\n",
      "speechiness                       float64\n",
      "tempo                             float64\n",
      "valence                           float64\n",
      "year                                int64\n",
      "Song                               object\n",
      "Weeks on Chart                      int64\n",
      "Average Previous Week Position    float64\n",
      "Week Position                     float64\n",
      "dtype: object\n"
     ]
    }
   ],
   "source": [
    "print(combined_df.columns)\n",
    "print(combined_df.dtypes)"
   ]
  },
  {
   "cell_type": "code",
   "execution_count": 13,
   "id": "4afae05d272fbadd",
   "metadata": {
    "collapsed": false,
    "ExecuteTime": {
     "end_time": "2024-07-30T02:17:50.345869Z",
     "start_time": "2024-07-30T02:17:49.740063Z"
    }
   },
   "outputs": [
    {
     "name": "stderr",
     "output_type": "stream",
     "text": [
      "/var/folders/qh/ybqx575j049gxhhh2g2x2nr80000gn/T/ipykernel_98500/1848093857.py:7: FutureWarning: Setting an item of incompatible dtype is deprecated and will raise in a future error of pandas. Value '[ 7.1587868   7.1587868  10.69800012 74.85875706  8.08482224  8.08482224\n",
      " 11.85128291 15.20315193 22.83427495 17.90004746 18.46246973 13.05512446\n",
      " 12.41298378 24.2699903  12.35763505]' has dtype incompatible with int64, please explicitly cast to a compatible dtype first.\n",
      "  combined_df.loc[combined_df['popularity'] == 0, 'popularity'] = combined_df['new_popularity'].astype(float)\n"
     ]
    },
    {
     "data": {
      "text/plain": "       acousticness                         artists  danceability  \\\n7347        0.73700                           drake         0.559   \n11509       0.02360                           nelly         0.690   \n8845        0.56600                  plain white ts         0.458   \n10849       0.10700                          amerie         0.612   \n10989       0.26500                           drake         0.825   \n...             ...                             ...           ...   \n11803       0.70300                    ohio express         0.738   \n11702       0.15000                     post malone         0.738   \n4928        0.05170                     chris brown         0.731   \n11709       0.00756                      bad wolves         0.448   \n10335       0.15400  herb alpert  the tijuana brass         0.531   \n\n       duration_ms  energy  instrumentalness  key  liveness  loudness  \\\n7347        275227   0.716          0.000000   11    0.2520    -3.964   \n11509       198760   0.592          0.000000    7    0.5600    -5.973   \n8845        198360   0.550          0.000014    2    0.1080    -7.092   \n10849       238760   0.961          0.000042   10    0.0413    -3.078   \n10989       177733   0.756          0.000002   11    0.0762    -3.687   \n...            ...     ...               ...  ...       ...       ...   \n11803       142547   0.695          0.000873    0    0.1580    -8.108   \n11702       204360   0.824          0.000000    5    0.1320    -5.165   \n4928        214600   0.818          0.000000    1    0.0743    -4.564   \n11709       254805   0.826          0.000000    2    0.1170    -3.244   \n10335       264853   0.642          0.279000    5    0.0584   -12.702   \n\n       popularity  speechiness    tempo  valence  year                    Song  \n7347         70.0       0.3900  176.618    0.504  2013  0 to 100  the catch up  \n11509        50.0       0.3000  179.980    0.466  2002                       1  \n8845         63.0       0.0262   90.560    0.560  2008                 1 2 3 4  \n10849        60.0       0.3330  129.873    0.867  2005                 1 thing  \n10989        64.0       0.3830  172.938    0.888  2015                10 bands  \n...           ...          ...      ...      ...   ...                     ...  \n11803        40.0       0.0325  131.341    0.965  1968       yummy yummy yummy  \n11702        71.0       0.0437  138.039    0.386  2018        zack and codeine  \n4928         55.0       0.0638  120.993    0.812  2015                    zero  \n11709        72.0       0.0319   77.093    0.190  2018                  zombie  \n10335        36.0       0.3230   82.107    0.192  1965         zorba the greek  \n\n[9516 rows x 15 columns]",
      "text/html": "<div>\n<style scoped>\n    .dataframe tbody tr th:only-of-type {\n        vertical-align: middle;\n    }\n\n    .dataframe tbody tr th {\n        vertical-align: top;\n    }\n\n    .dataframe thead th {\n        text-align: right;\n    }\n</style>\n<table border=\"1\" class=\"dataframe\">\n  <thead>\n    <tr style=\"text-align: right;\">\n      <th></th>\n      <th>acousticness</th>\n      <th>artists</th>\n      <th>danceability</th>\n      <th>duration_ms</th>\n      <th>energy</th>\n      <th>instrumentalness</th>\n      <th>key</th>\n      <th>liveness</th>\n      <th>loudness</th>\n      <th>popularity</th>\n      <th>speechiness</th>\n      <th>tempo</th>\n      <th>valence</th>\n      <th>year</th>\n      <th>Song</th>\n    </tr>\n  </thead>\n  <tbody>\n    <tr>\n      <th>7347</th>\n      <td>0.73700</td>\n      <td>drake</td>\n      <td>0.559</td>\n      <td>275227</td>\n      <td>0.716</td>\n      <td>0.000000</td>\n      <td>11</td>\n      <td>0.2520</td>\n      <td>-3.964</td>\n      <td>70.0</td>\n      <td>0.3900</td>\n      <td>176.618</td>\n      <td>0.504</td>\n      <td>2013</td>\n      <td>0 to 100  the catch up</td>\n    </tr>\n    <tr>\n      <th>11509</th>\n      <td>0.02360</td>\n      <td>nelly</td>\n      <td>0.690</td>\n      <td>198760</td>\n      <td>0.592</td>\n      <td>0.000000</td>\n      <td>7</td>\n      <td>0.5600</td>\n      <td>-5.973</td>\n      <td>50.0</td>\n      <td>0.3000</td>\n      <td>179.980</td>\n      <td>0.466</td>\n      <td>2002</td>\n      <td>1</td>\n    </tr>\n    <tr>\n      <th>8845</th>\n      <td>0.56600</td>\n      <td>plain white ts</td>\n      <td>0.458</td>\n      <td>198360</td>\n      <td>0.550</td>\n      <td>0.000014</td>\n      <td>2</td>\n      <td>0.1080</td>\n      <td>-7.092</td>\n      <td>63.0</td>\n      <td>0.0262</td>\n      <td>90.560</td>\n      <td>0.560</td>\n      <td>2008</td>\n      <td>1 2 3 4</td>\n    </tr>\n    <tr>\n      <th>10849</th>\n      <td>0.10700</td>\n      <td>amerie</td>\n      <td>0.612</td>\n      <td>238760</td>\n      <td>0.961</td>\n      <td>0.000042</td>\n      <td>10</td>\n      <td>0.0413</td>\n      <td>-3.078</td>\n      <td>60.0</td>\n      <td>0.3330</td>\n      <td>129.873</td>\n      <td>0.867</td>\n      <td>2005</td>\n      <td>1 thing</td>\n    </tr>\n    <tr>\n      <th>10989</th>\n      <td>0.26500</td>\n      <td>drake</td>\n      <td>0.825</td>\n      <td>177733</td>\n      <td>0.756</td>\n      <td>0.000002</td>\n      <td>11</td>\n      <td>0.0762</td>\n      <td>-3.687</td>\n      <td>64.0</td>\n      <td>0.3830</td>\n      <td>172.938</td>\n      <td>0.888</td>\n      <td>2015</td>\n      <td>10 bands</td>\n    </tr>\n    <tr>\n      <th>...</th>\n      <td>...</td>\n      <td>...</td>\n      <td>...</td>\n      <td>...</td>\n      <td>...</td>\n      <td>...</td>\n      <td>...</td>\n      <td>...</td>\n      <td>...</td>\n      <td>...</td>\n      <td>...</td>\n      <td>...</td>\n      <td>...</td>\n      <td>...</td>\n      <td>...</td>\n    </tr>\n    <tr>\n      <th>11803</th>\n      <td>0.70300</td>\n      <td>ohio express</td>\n      <td>0.738</td>\n      <td>142547</td>\n      <td>0.695</td>\n      <td>0.000873</td>\n      <td>0</td>\n      <td>0.1580</td>\n      <td>-8.108</td>\n      <td>40.0</td>\n      <td>0.0325</td>\n      <td>131.341</td>\n      <td>0.965</td>\n      <td>1968</td>\n      <td>yummy yummy yummy</td>\n    </tr>\n    <tr>\n      <th>11702</th>\n      <td>0.15000</td>\n      <td>post malone</td>\n      <td>0.738</td>\n      <td>204360</td>\n      <td>0.824</td>\n      <td>0.000000</td>\n      <td>5</td>\n      <td>0.1320</td>\n      <td>-5.165</td>\n      <td>71.0</td>\n      <td>0.0437</td>\n      <td>138.039</td>\n      <td>0.386</td>\n      <td>2018</td>\n      <td>zack and codeine</td>\n    </tr>\n    <tr>\n      <th>4928</th>\n      <td>0.05170</td>\n      <td>chris brown</td>\n      <td>0.731</td>\n      <td>214600</td>\n      <td>0.818</td>\n      <td>0.000000</td>\n      <td>1</td>\n      <td>0.0743</td>\n      <td>-4.564</td>\n      <td>55.0</td>\n      <td>0.0638</td>\n      <td>120.993</td>\n      <td>0.812</td>\n      <td>2015</td>\n      <td>zero</td>\n    </tr>\n    <tr>\n      <th>11709</th>\n      <td>0.00756</td>\n      <td>bad wolves</td>\n      <td>0.448</td>\n      <td>254805</td>\n      <td>0.826</td>\n      <td>0.000000</td>\n      <td>2</td>\n      <td>0.1170</td>\n      <td>-3.244</td>\n      <td>72.0</td>\n      <td>0.0319</td>\n      <td>77.093</td>\n      <td>0.190</td>\n      <td>2018</td>\n      <td>zombie</td>\n    </tr>\n    <tr>\n      <th>10335</th>\n      <td>0.15400</td>\n      <td>herb alpert  the tijuana brass</td>\n      <td>0.531</td>\n      <td>264853</td>\n      <td>0.642</td>\n      <td>0.279000</td>\n      <td>5</td>\n      <td>0.0584</td>\n      <td>-12.702</td>\n      <td>36.0</td>\n      <td>0.3230</td>\n      <td>82.107</td>\n      <td>0.192</td>\n      <td>1965</td>\n      <td>zorba the greek</td>\n    </tr>\n  </tbody>\n</table>\n<p>9516 rows × 15 columns</p>\n</div>"
     },
     "execution_count": 13,
     "metadata": {},
     "output_type": "execute_result"
    }
   ],
   "source": [
    "def calculate_popularity(row):\n",
    "    return (1 / (row['Week Position'] + 1)) * (1/3) + (1 / (row['Average Previous Week Position'] + 1)) * (1/3) + (row['Weeks on Chart'] / combined_df['Weeks on Chart'].max()) * (1/3)\n",
    "\n",
    "\n",
    "combined_df['new_popularity'] = combined_df.apply(calculate_popularity, axis=1)\n",
    "combined_df['new_popularity'] = combined_df['new_popularity'] * 100 / combined_df['new_popularity'].max()\n",
    "combined_df.loc[combined_df['popularity'] == 0, 'popularity'] = combined_df['new_popularity'].astype(float)\n",
    "\n",
    "columns_to_drop = ['Week Position', 'Average Previous Week Position', 'Weeks on Chart', 'new_popularity']\n",
    "combined_df.drop(columns=columns_to_drop, inplace=True)\n",
    "combined_df = combined_df.loc[combined_df.groupby('Song')['popularity'].idxmax()]\n",
    "combined_df"
   ]
  },
  {
   "cell_type": "code",
   "execution_count": 14,
   "outputs": [
    {
     "data": {
      "text/plain": "      acousticness              artists  danceability  energy  \\\n4557        0.9740          bing crosby         0.111   0.184   \n4951        0.6570            doris day         0.834   0.284   \n620         0.8480          roy orbison         0.400   0.205   \n2           0.7990           gene autry         0.834   0.372   \n1268        0.8830           gene autry         0.632   0.159   \n...            ...                  ...           ...     ...   \n4948        0.5270               giveon         0.451   0.462   \n7662        0.0252  megan thee stallion         0.843   0.741   \n9246        0.0212           the weeknd         0.680   0.826   \n9247        0.0878            meek mill         0.730   0.772   \n7658        0.0264              6ix9ine         0.611   0.688   \n\n      instrumentalness  key  liveness  loudness  popularity  speechiness  \\\n4557          0.045600    8    0.1110   -15.011        27.0       0.0344   \n4951          0.000002    3    0.0676   -13.497        32.0       0.1020   \n620           0.000000    7    0.4000   -11.794         1.0       0.0270   \n2             0.000000    1    0.2750   -11.990        40.0       0.0358   \n1268          0.000000    8    0.2220   -14.056        35.0       0.0492   \n...                ...  ...       ...       ...         ...          ...   \n4948          0.000000    0    0.3030    -8.962        62.0       0.0782   \n7662          0.000000   11    0.0960    -5.609        89.0       0.3340   \n9246          0.000012    0    0.5430    -5.487        81.0       0.0309   \n9247          0.000000    5    0.4010    -3.883        75.0       0.3160   \n7658          0.000000    1    0.2510    -5.688        94.0       0.3410   \n\n        tempo  valence  year  \\\n4557   76.416    0.214  1945   \n4951   92.224    0.684  1945   \n620    79.545    0.357  1947   \n2      96.628    0.976  1947   \n1268  142.110    0.644  1947   \n...       ...      ...   ...   \n4948   89.174    0.533  2020   \n7662  168.983    0.680  2020   \n9246  118.051    0.644  2020   \n9247  147.053    0.403  2020   \n7658  178.462    0.393  2020   \n\n                                                   Song  duration_mins  \n4557                                       silent night       2.614450  \n4951                            everybody loves a lover       2.674450  \n620                                        pretty paper       2.756000  \n2     here comes santa claus right down santa claus ...       2.504450  \n1268                      rudolph the rednosed reindeer       3.112217  \n...                                                 ...            ...  \n4948                             heartbreak anniversary       3.306183  \n7662                                             savage       2.591617  \n9246                                    save your tears       3.593783  \n9247                               otherside of america       3.635050  \n7658                                              gooba       2.205050  \n\n[9516 rows x 15 columns]",
      "text/html": "<div>\n<style scoped>\n    .dataframe tbody tr th:only-of-type {\n        vertical-align: middle;\n    }\n\n    .dataframe tbody tr th {\n        vertical-align: top;\n    }\n\n    .dataframe thead th {\n        text-align: right;\n    }\n</style>\n<table border=\"1\" class=\"dataframe\">\n  <thead>\n    <tr style=\"text-align: right;\">\n      <th></th>\n      <th>acousticness</th>\n      <th>artists</th>\n      <th>danceability</th>\n      <th>energy</th>\n      <th>instrumentalness</th>\n      <th>key</th>\n      <th>liveness</th>\n      <th>loudness</th>\n      <th>popularity</th>\n      <th>speechiness</th>\n      <th>tempo</th>\n      <th>valence</th>\n      <th>year</th>\n      <th>Song</th>\n      <th>duration_mins</th>\n    </tr>\n  </thead>\n  <tbody>\n    <tr>\n      <th>4557</th>\n      <td>0.9740</td>\n      <td>bing crosby</td>\n      <td>0.111</td>\n      <td>0.184</td>\n      <td>0.045600</td>\n      <td>8</td>\n      <td>0.1110</td>\n      <td>-15.011</td>\n      <td>27.0</td>\n      <td>0.0344</td>\n      <td>76.416</td>\n      <td>0.214</td>\n      <td>1945</td>\n      <td>silent night</td>\n      <td>2.614450</td>\n    </tr>\n    <tr>\n      <th>4951</th>\n      <td>0.6570</td>\n      <td>doris day</td>\n      <td>0.834</td>\n      <td>0.284</td>\n      <td>0.000002</td>\n      <td>3</td>\n      <td>0.0676</td>\n      <td>-13.497</td>\n      <td>32.0</td>\n      <td>0.1020</td>\n      <td>92.224</td>\n      <td>0.684</td>\n      <td>1945</td>\n      <td>everybody loves a lover</td>\n      <td>2.674450</td>\n    </tr>\n    <tr>\n      <th>620</th>\n      <td>0.8480</td>\n      <td>roy orbison</td>\n      <td>0.400</td>\n      <td>0.205</td>\n      <td>0.000000</td>\n      <td>7</td>\n      <td>0.4000</td>\n      <td>-11.794</td>\n      <td>1.0</td>\n      <td>0.0270</td>\n      <td>79.545</td>\n      <td>0.357</td>\n      <td>1947</td>\n      <td>pretty paper</td>\n      <td>2.756000</td>\n    </tr>\n    <tr>\n      <th>2</th>\n      <td>0.7990</td>\n      <td>gene autry</td>\n      <td>0.834</td>\n      <td>0.372</td>\n      <td>0.000000</td>\n      <td>1</td>\n      <td>0.2750</td>\n      <td>-11.990</td>\n      <td>40.0</td>\n      <td>0.0358</td>\n      <td>96.628</td>\n      <td>0.976</td>\n      <td>1947</td>\n      <td>here comes santa claus right down santa claus ...</td>\n      <td>2.504450</td>\n    </tr>\n    <tr>\n      <th>1268</th>\n      <td>0.8830</td>\n      <td>gene autry</td>\n      <td>0.632</td>\n      <td>0.159</td>\n      <td>0.000000</td>\n      <td>8</td>\n      <td>0.2220</td>\n      <td>-14.056</td>\n      <td>35.0</td>\n      <td>0.0492</td>\n      <td>142.110</td>\n      <td>0.644</td>\n      <td>1947</td>\n      <td>rudolph the rednosed reindeer</td>\n      <td>3.112217</td>\n    </tr>\n    <tr>\n      <th>...</th>\n      <td>...</td>\n      <td>...</td>\n      <td>...</td>\n      <td>...</td>\n      <td>...</td>\n      <td>...</td>\n      <td>...</td>\n      <td>...</td>\n      <td>...</td>\n      <td>...</td>\n      <td>...</td>\n      <td>...</td>\n      <td>...</td>\n      <td>...</td>\n      <td>...</td>\n    </tr>\n    <tr>\n      <th>4948</th>\n      <td>0.5270</td>\n      <td>giveon</td>\n      <td>0.451</td>\n      <td>0.462</td>\n      <td>0.000000</td>\n      <td>0</td>\n      <td>0.3030</td>\n      <td>-8.962</td>\n      <td>62.0</td>\n      <td>0.0782</td>\n      <td>89.174</td>\n      <td>0.533</td>\n      <td>2020</td>\n      <td>heartbreak anniversary</td>\n      <td>3.306183</td>\n    </tr>\n    <tr>\n      <th>7662</th>\n      <td>0.0252</td>\n      <td>megan thee stallion</td>\n      <td>0.843</td>\n      <td>0.741</td>\n      <td>0.000000</td>\n      <td>11</td>\n      <td>0.0960</td>\n      <td>-5.609</td>\n      <td>89.0</td>\n      <td>0.3340</td>\n      <td>168.983</td>\n      <td>0.680</td>\n      <td>2020</td>\n      <td>savage</td>\n      <td>2.591617</td>\n    </tr>\n    <tr>\n      <th>9246</th>\n      <td>0.0212</td>\n      <td>the weeknd</td>\n      <td>0.680</td>\n      <td>0.826</td>\n      <td>0.000012</td>\n      <td>0</td>\n      <td>0.5430</td>\n      <td>-5.487</td>\n      <td>81.0</td>\n      <td>0.0309</td>\n      <td>118.051</td>\n      <td>0.644</td>\n      <td>2020</td>\n      <td>save your tears</td>\n      <td>3.593783</td>\n    </tr>\n    <tr>\n      <th>9247</th>\n      <td>0.0878</td>\n      <td>meek mill</td>\n      <td>0.730</td>\n      <td>0.772</td>\n      <td>0.000000</td>\n      <td>5</td>\n      <td>0.4010</td>\n      <td>-3.883</td>\n      <td>75.0</td>\n      <td>0.3160</td>\n      <td>147.053</td>\n      <td>0.403</td>\n      <td>2020</td>\n      <td>otherside of america</td>\n      <td>3.635050</td>\n    </tr>\n    <tr>\n      <th>7658</th>\n      <td>0.0264</td>\n      <td>6ix9ine</td>\n      <td>0.611</td>\n      <td>0.688</td>\n      <td>0.000000</td>\n      <td>1</td>\n      <td>0.2510</td>\n      <td>-5.688</td>\n      <td>94.0</td>\n      <td>0.3410</td>\n      <td>178.462</td>\n      <td>0.393</td>\n      <td>2020</td>\n      <td>gooba</td>\n      <td>2.205050</td>\n    </tr>\n  </tbody>\n</table>\n<p>9516 rows × 15 columns</p>\n</div>"
     },
     "execution_count": 14,
     "metadata": {},
     "output_type": "execute_result"
    }
   ],
   "source": [
    "combined_df[\"duration_mins\"] = combined_df[\"duration_ms\"]/60000\n",
    "combined_df.drop(columns=\"duration_ms\", inplace=True)\n",
    "combined_df = combined_df.sort_values(by='year', ascending=True)\n",
    "combined_df"
   ],
   "metadata": {
    "collapsed": false,
    "ExecuteTime": {
     "end_time": "2024-07-30T02:17:50.398423Z",
     "start_time": "2024-07-30T02:17:50.346383Z"
    }
   },
   "id": "2524517de0fb0720"
  },
  {
   "cell_type": "code",
   "execution_count": 15,
   "outputs": [],
   "source": [
    "combined_df = combined_df.drop(columns=['artists', 'Song', 'year'])"
   ],
   "metadata": {
    "collapsed": false,
    "ExecuteTime": {
     "end_time": "2024-07-30T02:17:50.405804Z",
     "start_time": "2024-07-30T02:17:50.358685Z"
    }
   },
   "id": "4488ae11e2cac728"
  },
  {
   "cell_type": "code",
   "execution_count": 16,
   "id": "d70db04ce043e859",
   "metadata": {
    "ExecuteTime": {
     "end_time": "2024-07-30T02:17:50.434602Z",
     "start_time": "2024-07-30T02:17:50.363961Z"
    }
   },
   "outputs": [
    {
     "name": "stdout",
     "output_type": "stream",
     "text": [
      "<class 'pandas.core.frame.DataFrame'>\n",
      "Index: 9516 entries, 4557 to 7658\n",
      "Data columns (total 12 columns):\n",
      " #   Column            Non-Null Count  Dtype  \n",
      "---  ------            --------------  -----  \n",
      " 0   acousticness      9516 non-null   float64\n",
      " 1   danceability      9516 non-null   float64\n",
      " 2   energy            9516 non-null   float64\n",
      " 3   instrumentalness  9516 non-null   float64\n",
      " 4   key               9516 non-null   int64  \n",
      " 5   liveness          9516 non-null   float64\n",
      " 6   loudness          9516 non-null   float64\n",
      " 7   popularity        9516 non-null   float64\n",
      " 8   speechiness       9516 non-null   float64\n",
      " 9   tempo             9516 non-null   float64\n",
      " 10  valence           9516 non-null   float64\n",
      " 11  duration_mins     9516 non-null   float64\n",
      "dtypes: float64(11), int64(1)\n",
      "memory usage: 966.5 KB\n",
      "None\n",
      "       acousticness  danceability       energy  instrumentalness          key  \\\n",
      "count   9516.000000   9516.000000  9516.000000       9516.000000  9516.000000   \n",
      "mean       0.260742      0.600253     0.628061          0.024800     5.264292   \n",
      "std        0.263690      0.147913     0.197857          0.112676     3.556411   \n",
      "min        0.000002      0.094300     0.022200          0.000000     0.000000   \n",
      "25%        0.038000      0.504000     0.484000          0.000000     2.000000   \n",
      "50%        0.159000      0.607000     0.644000          0.000006     5.000000   \n",
      "75%        0.433000      0.704000     0.790000          0.000532     8.000000   \n",
      "max        0.980000      0.988000     0.996000          0.989000    11.000000   \n",
      "\n",
      "          liveness     loudness   popularity  speechiness        tempo  \\\n",
      "count  9516.000000  9516.000000  9516.000000  9516.000000  9516.000000   \n",
      "mean      0.182025    -8.617032    51.451015     0.065658   120.677534   \n",
      "std       0.146205     3.659110    15.641119     0.071782    28.067251   \n",
      "min       0.009670   -27.119000     1.000000     0.022400    30.946000   \n",
      "25%       0.088000   -11.139500    41.000000     0.031700    99.657250   \n",
      "50%       0.125000    -8.136500    52.000000     0.039900   119.392000   \n",
      "75%       0.237250    -5.687750    63.000000     0.061200   136.964250   \n",
      "max       0.997000    -0.716000   100.000000     0.755000   217.396000   \n",
      "\n",
      "           valence  duration_mins  \n",
      "count  9516.000000    9516.000000  \n",
      "mean      0.596597       3.847031  \n",
      "std       0.236022       1.049801  \n",
      "min       0.034900       1.348783  \n",
      "25%       0.410000       3.167167  \n",
      "50%       0.616000       3.743917  \n",
      "75%       0.793000       4.355338  \n",
      "max       0.990000      17.952217  \n"
     ]
    }
   ],
   "source": [
    "# Check the combined dataframe\n",
    "print(combined_df.info())\n",
    "print(combined_df.describe())\n"
   ]
  },
  {
   "cell_type": "code",
   "execution_count": 17,
   "id": "1c131e0fe2e79a80",
   "metadata": {
    "ExecuteTime": {
     "end_time": "2024-07-30T02:17:50.505058Z",
     "start_time": "2024-07-30T02:17:50.384791Z"
    }
   },
   "outputs": [],
   "source": [
    "combined_df.to_csv(\"result.csv\", index = False)"
   ]
  },
  {
   "cell_type": "code",
   "execution_count": 17,
   "id": "5f647f4d8472485a",
   "metadata": {
    "collapsed": false,
    "ExecuteTime": {
     "end_time": "2024-07-30T02:17:50.520131Z",
     "start_time": "2024-07-30T02:17:50.468520Z"
    }
   },
   "outputs": [],
   "source": []
  }
 ],
 "metadata": {
  "kernelspec": {
   "display_name": "Python 3",
   "language": "python",
   "name": "python3"
  },
  "language_info": {
   "codemirror_mode": {
    "name": "ipython",
    "version": 3
   },
   "file_extension": ".py",
   "mimetype": "text/x-python",
   "name": "python",
   "nbconvert_exporter": "python",
   "pygments_lexer": "ipython3",
   "version": "3.12.3"
  }
 },
 "nbformat": 4,
 "nbformat_minor": 5
}
