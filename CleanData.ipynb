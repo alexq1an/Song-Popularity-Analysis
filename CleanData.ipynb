{
 "cells": [
  {
   "cell_type": "code",
   "id": "initial_id",
   "metadata": {
    "collapsed": true,
    "ExecuteTime": {
     "end_time": "2024-07-10T07:52:21.034766Z",
     "start_time": "2024-07-10T07:52:19.418090Z"
    }
   },
   "source": [
    "import pandas as pd\n",
    "spotify_df = pd.read_csv('spotify_data.csv')\n",
    "billboard_df = pd.read_csv('billboard_hot_stuff.csv')\n",
    "\n",
    "# Standardize song names and artist names\n",
    "spotify_df['name'] = spotify_df['name'].str.lower().str.replace('[^a-zA-Z0-9 ]', '', regex=True)\n",
    "spotify_df['artists'] = spotify_df['artists'].str.lower().str.replace('[^a-zA-Z0-9 ]', '', regex=True)\n",
    "billboard_df['Song'] = billboard_df['Song'].str.lower().str.replace('[^a-zA-Z0-9 ]', '', regex=True)\n",
    "billboard_df['Performer'] = billboard_df['Performer'].str.lower().str.replace('[^a-zA-Z0-9 ]', '', regex=True)\n",
    "\n",
    "# Attempt to parse dates in multiple formats\n",
    "spotify_df['release_date'] = pd.to_datetime(spotify_df['release_date'], errors='coerce')\n",
    "billboard_df['WeekID'] = pd.to_datetime(billboard_df['WeekID'], errors='coerce')\n",
    "\n",
    "# Check for remaining parsing issues\n",
    "print(spotify_df['release_date'].isna().sum())\n",
    "print(billboard_df['WeekID'].isna().sum())\n",
    "\n",
    "# Drop rows where dates couldn't be parsed\n",
    "spotify_df = spotify_df.dropna(subset=['release_date'])\n",
    "billboard_df = billboard_df.dropna(subset=['WeekID'])\n"
   ],
   "outputs": [
    {
     "name": "stdout",
     "output_type": "stream",
     "text": [
      "119527\n",
      "0\n"
     ]
    }
   ],
   "execution_count": 8
  },
  {
   "metadata": {
    "ExecuteTime": {
     "end_time": "2024-07-10T07:52:38.064187Z",
     "start_time": "2024-07-10T07:52:37.909850Z"
    }
   },
   "cell_type": "code",
   "source": [
    "# Ensure consistent date format\n",
    "spotify_df['release_date'] = spotify_df['release_date'].dt.strftime('%Y-%m-%d')\n",
    "billboard_df['WeekID'] = billboard_df['WeekID'].dt.strftime('%Y-%m-%d')\n"
   ],
   "id": "4ad68d0b30ea1320",
   "outputs": [],
   "execution_count": 9
  },
  {
   "metadata": {
    "ExecuteTime": {
     "end_time": "2024-07-10T07:52:45.772392Z",
     "start_time": "2024-07-10T07:52:45.684680Z"
    }
   },
   "cell_type": "code",
   "source": [
    "print(spotify_df.info())\n",
    "print(spotify_df.describe())\n",
    "\n",
    "print(billboard_df.info())\n",
    "print(billboard_df.describe())"
   ],
   "id": "b22b0eeed2408230",
   "outputs": [
    {
     "name": "stdout",
     "output_type": "stream",
     "text": [
      "<class 'pandas.core.frame.DataFrame'>\n",
      "Index: 50382 entries, 0 to 169508\n",
      "Data columns (total 19 columns):\n",
      " #   Column            Non-Null Count  Dtype  \n",
      "---  ------            --------------  -----  \n",
      " 0   acousticness      50382 non-null  float64\n",
      " 1   artists           50382 non-null  object \n",
      " 2   danceability      50382 non-null  float64\n",
      " 3   duration_ms       50382 non-null  int64  \n",
      " 4   energy            50382 non-null  float64\n",
      " 5   explicit          50382 non-null  int64  \n",
      " 6   id                50382 non-null  object \n",
      " 7   instrumentalness  50382 non-null  float64\n",
      " 8   key               50382 non-null  int64  \n",
      " 9   liveness          50382 non-null  float64\n",
      " 10  loudness          50382 non-null  float64\n",
      " 11  mode              50382 non-null  int64  \n",
      " 12  name              50382 non-null  object \n",
      " 13  popularity        50382 non-null  int64  \n",
      " 14  release_date      50382 non-null  object \n",
      " 15  speechiness       50382 non-null  float64\n",
      " 16  tempo             50382 non-null  float64\n",
      " 17  valence           50382 non-null  float64\n",
      " 18  year              50382 non-null  int64  \n",
      "dtypes: float64(9), int64(6), object(4)\n",
      "memory usage: 7.7+ MB\n",
      "None\n",
      "       acousticness  danceability   duration_ms        energy      explicit  \\\n",
      "count  50382.000000  50382.000000  5.038200e+04  50382.000000  50382.000000   \n",
      "mean       0.600523      0.506353  2.359740e+05      0.398221      0.060657   \n",
      "std        0.366389      0.178413  1.448916e+05      0.264259      0.238702   \n",
      "min        0.000000      0.000000  5.108000e+03      0.000000      0.000000   \n",
      "25%        0.226000      0.374000  1.595070e+05      0.181000      0.000000   \n",
      "50%        0.733000      0.515000  2.018270e+05      0.339000      0.000000   \n",
      "75%        0.948000      0.644000  2.726000e+05      0.591000      0.000000   \n",
      "max        0.996000      0.977000  3.816373e+06      1.000000      1.000000   \n",
      "\n",
      "       instrumentalness           key      liveness      loudness  \\\n",
      "count      50382.000000  50382.000000  50382.000000  50382.000000   \n",
      "mean           0.216139      5.143643      0.210177    -13.683019   \n",
      "std            0.347870      3.513071      0.175532      5.973576   \n",
      "min            0.000000      0.000000      0.000000    -60.000000   \n",
      "25%            0.000002      2.000000      0.099800    -17.361000   \n",
      "50%            0.000776      5.000000      0.140000    -12.973000   \n",
      "75%            0.375750      8.000000      0.269000     -9.314000   \n",
      "max            0.996000     11.000000      0.999000      0.674000   \n",
      "\n",
      "               mode    popularity   speechiness         tempo       valence  \\\n",
      "count  50382.000000  50382.000000  50382.000000  50382.000000  50382.000000   \n",
      "mean       0.724604     21.360585      0.119283    114.204490      0.502841   \n",
      "std        0.446718     18.762926      0.220873     30.825104      0.271409   \n",
      "min        0.000000      0.000000      0.000000      0.000000      0.000000   \n",
      "25%        0.000000      1.000000      0.035400     90.265500      0.272000   \n",
      "50%        1.000000     21.000000      0.044100    110.946000      0.515000   \n",
      "75%        1.000000     36.000000      0.068975    133.125500      0.726000   \n",
      "max        1.000000     82.000000      0.969000    243.372000      1.000000   \n",
      "\n",
      "               year  \n",
      "count  50382.000000  \n",
      "mean    1963.731988  \n",
      "std       21.570827  \n",
      "min     1921.000000  \n",
      "25%     1948.000000  \n",
      "50%     1962.000000  \n",
      "75%     1980.000000  \n",
      "max     2017.000000  \n",
      "<class 'pandas.core.frame.DataFrame'>\n",
      "RangeIndex: 327895 entries, 0 to 327894\n",
      "Data columns (total 10 columns):\n",
      " #   Column                  Non-Null Count   Dtype  \n",
      "---  ------                  --------------   -----  \n",
      " 0   url                     327895 non-null  object \n",
      " 1   WeekID                  327895 non-null  object \n",
      " 2   Week Position           327895 non-null  int64  \n",
      " 3   Song                    327895 non-null  object \n",
      " 4   Performer               327895 non-null  object \n",
      " 5   SongID                  327895 non-null  object \n",
      " 6   Instance                327895 non-null  int64  \n",
      " 7   Previous Week Position  295941 non-null  float64\n",
      " 8   Peak Position           327895 non-null  int64  \n",
      " 9   Weeks on Chart          327895 non-null  int64  \n",
      "dtypes: float64(1), int64(4), object(5)\n",
      "memory usage: 25.0+ MB\n",
      "None\n",
      "       Week Position       Instance  Previous Week Position  Peak Position  \\\n",
      "count  327895.000000  327895.000000           295941.000000  327895.000000   \n",
      "mean       50.499309       1.072538               47.604066      41.358307   \n",
      "std        28.865707       0.334188               28.056915      29.542497   \n",
      "min         1.000000       1.000000                1.000000       1.000000   \n",
      "25%        25.500000       1.000000               23.000000      14.000000   \n",
      "50%        50.000000       1.000000               47.000000      39.000000   \n",
      "75%        75.000000       1.000000               72.000000      66.000000   \n",
      "max       100.000000      10.000000              100.000000     100.000000   \n",
      "\n",
      "       Weeks on Chart  \n",
      "count   327895.000000  \n",
      "mean         9.153793  \n",
      "std          7.590281  \n",
      "min          1.000000  \n",
      "25%          4.000000  \n",
      "50%          7.000000  \n",
      "75%         13.000000  \n",
      "max         87.000000  \n"
     ]
    }
   ],
   "execution_count": 10
  },
  {
   "metadata": {
    "ExecuteTime": {
     "end_time": "2024-07-10T07:54:19.577090Z",
     "start_time": "2024-07-10T07:54:19.529467Z"
    }
   },
   "cell_type": "code",
   "source": [
    "# Create a combined key for better matching\n",
    "spotify_df['key'] = spotify_df['name'] + ' ' + spotify_df['artists']\n",
    "billboard_df['key'] = billboard_df['Song'] + ' ' + billboard_df['Performer']\n"
   ],
   "id": "b82adfa0253e8b61",
   "outputs": [],
   "execution_count": 11
  },
  {
   "metadata": {
    "ExecuteTime": {
     "end_time": "2024-07-10T07:54:24.610553Z",
     "start_time": "2024-07-10T07:54:24.508053Z"
    }
   },
   "cell_type": "code",
   "source": [
    "# Merge datasets on the key\n",
    "combined_df = pd.merge(spotify_df, billboard_df, on='key', how='inner')\n"
   ],
   "id": "8b8d879f73869b85",
   "outputs": [],
   "execution_count": 12
  },
  {
   "metadata": {
    "ExecuteTime": {
     "end_time": "2024-07-10T07:54:29.557326Z",
     "start_time": "2024-07-10T07:54:29.518398Z"
    }
   },
   "cell_type": "code",
   "source": [
    "# Check the combined dataframe\n",
    "print(combined_df.info())\n",
    "print(combined_df.describe())\n"
   ],
   "id": "d70db04ce043e859",
   "outputs": [
    {
     "name": "stdout",
     "output_type": "stream",
     "text": [
      "<class 'pandas.core.frame.DataFrame'>\n",
      "RangeIndex: 40931 entries, 0 to 40930\n",
      "Data columns (total 29 columns):\n",
      " #   Column                  Non-Null Count  Dtype  \n",
      "---  ------                  --------------  -----  \n",
      " 0   acousticness            40931 non-null  float64\n",
      " 1   artists                 40931 non-null  object \n",
      " 2   danceability            40931 non-null  float64\n",
      " 3   duration_ms             40931 non-null  int64  \n",
      " 4   energy                  40931 non-null  float64\n",
      " 5   explicit                40931 non-null  int64  \n",
      " 6   id                      40931 non-null  object \n",
      " 7   instrumentalness        40931 non-null  float64\n",
      " 8   key                     40931 non-null  object \n",
      " 9   liveness                40931 non-null  float64\n",
      " 10  loudness                40931 non-null  float64\n",
      " 11  mode                    40931 non-null  int64  \n",
      " 12  name                    40931 non-null  object \n",
      " 13  popularity              40931 non-null  int64  \n",
      " 14  release_date            40931 non-null  object \n",
      " 15  speechiness             40931 non-null  float64\n",
      " 16  tempo                   40931 non-null  float64\n",
      " 17  valence                 40931 non-null  float64\n",
      " 18  year                    40931 non-null  int64  \n",
      " 19  url                     40931 non-null  object \n",
      " 20  WeekID                  40931 non-null  object \n",
      " 21  Week Position           40931 non-null  int64  \n",
      " 22  Song                    40931 non-null  object \n",
      " 23  Performer               40931 non-null  object \n",
      " 24  SongID                  40931 non-null  object \n",
      " 25  Instance                40931 non-null  int64  \n",
      " 26  Previous Week Position  37875 non-null  float64\n",
      " 27  Peak Position           40931 non-null  int64  \n",
      " 28  Weeks on Chart          40931 non-null  int64  \n",
      "dtypes: float64(10), int64(9), object(10)\n",
      "memory usage: 9.1+ MB\n",
      "None\n",
      "       acousticness  danceability    duration_ms        energy      explicit  \\\n",
      "count  40931.000000  40931.000000   40931.000000  40931.000000  40931.000000   \n",
      "mean       0.308762      0.585564  233322.156800      0.593771      0.019423   \n",
      "std        0.279853      0.146243   64949.642165      0.206388      0.138008   \n",
      "min        0.000017      0.094300  102400.000000      0.022200      0.000000   \n",
      "25%        0.055100      0.489000  188600.000000      0.437000      0.000000   \n",
      "50%        0.228000      0.596000  228533.000000      0.599000      0.000000   \n",
      "75%        0.537000      0.691000  264093.000000      0.764000      0.000000   \n",
      "max        0.986000      0.970000  830400.000000      0.993000      1.000000   \n",
      "\n",
      "       instrumentalness      liveness      loudness          mode  \\\n",
      "count      40931.000000  40931.000000  40931.000000  40931.000000   \n",
      "mean           0.025567      0.181613     -9.417890      0.772007   \n",
      "std            0.113349      0.152565      3.580688      0.419543   \n",
      "min            0.000000      0.016500    -27.119000      0.000000   \n",
      "25%            0.000000      0.085100    -11.992000      1.000000   \n",
      "50%            0.000012      0.123000     -9.178000      1.000000   \n",
      "75%            0.000663      0.228000     -6.663000      1.000000   \n",
      "max            0.966000      0.997000     -1.526000      1.000000   \n",
      "\n",
      "         popularity   speechiness         tempo       valence          year  \\\n",
      "count  40931.000000  40931.000000  40931.000000  40931.000000  40931.000000   \n",
      "mean      44.859178      0.051812    120.454778      0.608734   1983.433217   \n",
      "std       14.716278      0.048046     28.202803      0.236290     13.951812   \n",
      "min        0.000000      0.022700     30.946000      0.039700   1942.000000   \n",
      "25%       34.000000      0.030400    100.625000      0.428000   1973.000000   \n",
      "50%       45.000000      0.036700    119.136000      0.632000   1981.000000   \n",
      "75%       56.000000      0.051500    135.383000      0.810000   1995.000000   \n",
      "max       81.000000      0.533000    211.261000      0.985000   2015.000000   \n",
      "\n",
      "       Week Position      Instance  Previous Week Position  Peak Position  \\\n",
      "count   40931.000000  40931.000000            37875.000000   40931.000000   \n",
      "mean       44.086927      1.047324               41.708990      34.867020   \n",
      "std        28.492950      0.292480               27.458011      27.990582   \n",
      "min         1.000000      1.000000                1.000000       1.000000   \n",
      "25%        19.000000      1.000000               18.000000      10.000000   \n",
      "50%        41.000000      1.000000               38.000000      29.000000   \n",
      "75%        67.000000      1.000000               64.000000      57.000000   \n",
      "max       100.000000      9.000000              100.000000     100.000000   \n",
      "\n",
      "       Weeks on Chart  \n",
      "count    40931.000000  \n",
      "mean         9.544990  \n",
      "std          7.245609  \n",
      "min          1.000000  \n",
      "25%          4.000000  \n",
      "50%          8.000000  \n",
      "75%         13.000000  \n",
      "max         79.000000  \n"
     ]
    }
   ],
   "execution_count": 13
  },
  {
   "metadata": {},
   "cell_type": "code",
   "outputs": [],
   "execution_count": null,
   "source": "",
   "id": "1c131e0fe2e79a80"
  }
 ],
 "metadata": {
  "kernelspec": {
   "display_name": "Python 3",
   "language": "python",
   "name": "python3"
  },
  "language_info": {
   "codemirror_mode": {
    "name": "ipython",
    "version": 2
   },
   "file_extension": ".py",
   "mimetype": "text/x-python",
   "name": "python",
   "nbconvert_exporter": "python",
   "pygments_lexer": "ipython2",
   "version": "2.7.6"
  }
 },
 "nbformat": 4,
 "nbformat_minor": 5
}
