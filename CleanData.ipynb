{
 "cells": [
  {
   "cell_type": "code",
   "execution_count": 1,
   "id": "initial_id",
   "metadata": {
    "collapsed": true,
    "ExecuteTime": {
     "end_time": "2024-07-13T06:36:33.069437Z",
     "start_time": "2024-07-13T06:36:32.493601Z"
    }
   },
   "outputs": [],
   "source": [
    "import pandas as pd"
   ]
  },
  {
   "cell_type": "code",
   "execution_count": 2,
   "id": "551e1d2f",
   "metadata": {
    "ExecuteTime": {
     "end_time": "2024-07-13T06:36:33.737921Z",
     "start_time": "2024-07-13T06:36:33.069147Z"
    }
   },
   "outputs": [],
   "source": [
    "spotify_df = pd.read_csv('spotify_data.csv')\n",
    "billboard_df = pd.read_csv('billboard_hot_stuff.csv')"
   ]
  },
  {
   "cell_type": "code",
   "execution_count": 3,
   "id": "548cf982",
   "metadata": {
    "ExecuteTime": {
     "end_time": "2024-07-13T06:36:34.203544Z",
     "start_time": "2024-07-13T06:36:33.745589Z"
    }
   },
   "outputs": [],
   "source": [
    "# Standardize song names and artist names\n",
    "spotify_df['name'] = spotify_df['name'].str.lower().str.replace('[^a-zA-Z0-9 ]', '', regex=True)\n",
    "spotify_df['artists'] = spotify_df['artists'].str.lower().str.replace('[^a-zA-Z0-9 ]', '', regex=True)\n",
    "billboard_df['Song'] = billboard_df['Song'].str.lower().str.replace('[^a-zA-Z0-9 ]', '', regex=True)\n",
    "billboard_df['Performer'] = billboard_df['Performer'].str.lower().str.replace('[^a-zA-Z0-9 ]', '', regex=True)\n"
   ]
  },
  {
   "cell_type": "code",
   "execution_count": 4,
   "id": "5cfe2aa9",
   "metadata": {
    "ExecuteTime": {
     "end_time": "2024-07-13T06:36:34.235944Z",
     "start_time": "2024-07-13T06:36:34.205929Z"
    }
   },
   "outputs": [
    {
     "data": {
      "text/plain": "        acousticness                            artists  danceability  \\\n0             0.9950                    carl woitschach         0.708   \n1             0.9940  robert schumann vladimir horowitz         0.379   \n2             0.6040                 seweryn goszczyski         0.749   \n3             0.9950                   francisco canaro         0.781   \n4             0.9900    frdric chopin vladimir horowitz         0.210   \n...              ...                                ...           ...   \n169904        0.1730                    dripreport tyga         0.875   \n169905        0.0167        leon bridges terrace martin         0.719   \n169906        0.5380                     kygo oh wonder         0.514   \n169907        0.0714             cash cash andy grammer         0.646   \n169908        0.1090                     ingrid andress         0.512   \n\n        duration_ms  energy  explicit                      id  \\\n0            158648  0.1950         0  6KbQ3uYMLKb5jDxLF7wYDD   \n1            282133  0.0135         0  6KuQTIu1KoTTkLXKrwlLPV   \n2            104300  0.2200         0  6L63VW0PibdM1HDSBoqnoM   \n3            180760  0.1300         0  6M94FkXd15sOAOQYRnWPN8   \n4            687733  0.2040         0  6N6tiFZ9vLTSOIxkj8qKrd   \n...             ...     ...       ...                     ...   \n169904       163800  0.4430         1  4KppkflX7I3vJQk7urOJaS   \n169905       167468  0.3850         0  1ehhGlTvjtHo2e4xJFB0SZ   \n169906       180700  0.5390         0  52eycxprLhK3lPcRLbQiVk   \n169907       167308  0.7610         0  3wYOGJYD31sLRmBgCvWxa4   \n169908       214787  0.4280         0  60RFlt48hm0l4Fu0JoccOl   \n\n        instrumentalness  key  liveness  loudness  mode  \\\n0               0.563000   10    0.1510   -12.428     1   \n1               0.901000    8    0.0763   -28.454     1   \n2               0.000000    5    0.1190   -19.924     0   \n3               0.887000    1    0.1110   -14.734     0   \n4               0.908000   11    0.0980   -16.829     1   \n...                  ...  ...       ...       ...   ...   \n169904          0.000032    1    0.0891    -7.461     1   \n169905          0.031300    8    0.1110   -10.907     1   \n169906          0.002330    7    0.1080    -9.332     1   \n169907          0.000000    1    0.2220    -2.557     1   \n169908          0.000000    0    0.1050    -7.387     1   \n\n                                              name  popularity release_date  \\\n0                       singende bataillone 1 teil           0         1928   \n1              fantasiestcke op 111 pi tosto lento           0         1928   \n2                     chapter 118  zamek kaniowski           0         1928   \n3       bebamos juntos  instrumental remasterizado           0   1928-09-25   \n4          polonaisefantaisie in aflat major op 61           1         1928   \n...                                            ...         ...          ...   \n169904                   skechers feat tyga  remix          75   2020-05-15   \n169905                 sweeter feat terrace martin          64   2020-06-08   \n169906                            how would i know          70   2020-05-29   \n169907                                 i found you          70   2020-02-28   \n169908                       more hearts than mine          65   2020-03-27   \n\n        speechiness    tempo  valence  year  \n0            0.0506  118.469   0.7790  1928  \n1            0.0462   83.972   0.0767  1928  \n2            0.9290  107.177   0.8800  1928  \n3            0.0926  108.003   0.7200  1928  \n4            0.0424   62.149   0.0693  1928  \n...             ...      ...      ...   ...  \n169904       0.1430  100.012   0.3060  2020  \n169905       0.0403  128.000   0.2700  2020  \n169906       0.1050  123.700   0.1530  2020  \n169907       0.0385  129.916   0.4720  2020  \n169908       0.0271   80.588   0.3660  2020  \n\n[169909 rows x 19 columns]",
      "text/html": "<div>\n<style scoped>\n    .dataframe tbody tr th:only-of-type {\n        vertical-align: middle;\n    }\n\n    .dataframe tbody tr th {\n        vertical-align: top;\n    }\n\n    .dataframe thead th {\n        text-align: right;\n    }\n</style>\n<table border=\"1\" class=\"dataframe\">\n  <thead>\n    <tr style=\"text-align: right;\">\n      <th></th>\n      <th>acousticness</th>\n      <th>artists</th>\n      <th>danceability</th>\n      <th>duration_ms</th>\n      <th>energy</th>\n      <th>explicit</th>\n      <th>id</th>\n      <th>instrumentalness</th>\n      <th>key</th>\n      <th>liveness</th>\n      <th>loudness</th>\n      <th>mode</th>\n      <th>name</th>\n      <th>popularity</th>\n      <th>release_date</th>\n      <th>speechiness</th>\n      <th>tempo</th>\n      <th>valence</th>\n      <th>year</th>\n    </tr>\n  </thead>\n  <tbody>\n    <tr>\n      <th>0</th>\n      <td>0.9950</td>\n      <td>carl woitschach</td>\n      <td>0.708</td>\n      <td>158648</td>\n      <td>0.1950</td>\n      <td>0</td>\n      <td>6KbQ3uYMLKb5jDxLF7wYDD</td>\n      <td>0.563000</td>\n      <td>10</td>\n      <td>0.1510</td>\n      <td>-12.428</td>\n      <td>1</td>\n      <td>singende bataillone 1 teil</td>\n      <td>0</td>\n      <td>1928</td>\n      <td>0.0506</td>\n      <td>118.469</td>\n      <td>0.7790</td>\n      <td>1928</td>\n    </tr>\n    <tr>\n      <th>1</th>\n      <td>0.9940</td>\n      <td>robert schumann vladimir horowitz</td>\n      <td>0.379</td>\n      <td>282133</td>\n      <td>0.0135</td>\n      <td>0</td>\n      <td>6KuQTIu1KoTTkLXKrwlLPV</td>\n      <td>0.901000</td>\n      <td>8</td>\n      <td>0.0763</td>\n      <td>-28.454</td>\n      <td>1</td>\n      <td>fantasiestcke op 111 pi tosto lento</td>\n      <td>0</td>\n      <td>1928</td>\n      <td>0.0462</td>\n      <td>83.972</td>\n      <td>0.0767</td>\n      <td>1928</td>\n    </tr>\n    <tr>\n      <th>2</th>\n      <td>0.6040</td>\n      <td>seweryn goszczyski</td>\n      <td>0.749</td>\n      <td>104300</td>\n      <td>0.2200</td>\n      <td>0</td>\n      <td>6L63VW0PibdM1HDSBoqnoM</td>\n      <td>0.000000</td>\n      <td>5</td>\n      <td>0.1190</td>\n      <td>-19.924</td>\n      <td>0</td>\n      <td>chapter 118  zamek kaniowski</td>\n      <td>0</td>\n      <td>1928</td>\n      <td>0.9290</td>\n      <td>107.177</td>\n      <td>0.8800</td>\n      <td>1928</td>\n    </tr>\n    <tr>\n      <th>3</th>\n      <td>0.9950</td>\n      <td>francisco canaro</td>\n      <td>0.781</td>\n      <td>180760</td>\n      <td>0.1300</td>\n      <td>0</td>\n      <td>6M94FkXd15sOAOQYRnWPN8</td>\n      <td>0.887000</td>\n      <td>1</td>\n      <td>0.1110</td>\n      <td>-14.734</td>\n      <td>0</td>\n      <td>bebamos juntos  instrumental remasterizado</td>\n      <td>0</td>\n      <td>1928-09-25</td>\n      <td>0.0926</td>\n      <td>108.003</td>\n      <td>0.7200</td>\n      <td>1928</td>\n    </tr>\n    <tr>\n      <th>4</th>\n      <td>0.9900</td>\n      <td>frdric chopin vladimir horowitz</td>\n      <td>0.210</td>\n      <td>687733</td>\n      <td>0.2040</td>\n      <td>0</td>\n      <td>6N6tiFZ9vLTSOIxkj8qKrd</td>\n      <td>0.908000</td>\n      <td>11</td>\n      <td>0.0980</td>\n      <td>-16.829</td>\n      <td>1</td>\n      <td>polonaisefantaisie in aflat major op 61</td>\n      <td>1</td>\n      <td>1928</td>\n      <td>0.0424</td>\n      <td>62.149</td>\n      <td>0.0693</td>\n      <td>1928</td>\n    </tr>\n    <tr>\n      <th>...</th>\n      <td>...</td>\n      <td>...</td>\n      <td>...</td>\n      <td>...</td>\n      <td>...</td>\n      <td>...</td>\n      <td>...</td>\n      <td>...</td>\n      <td>...</td>\n      <td>...</td>\n      <td>...</td>\n      <td>...</td>\n      <td>...</td>\n      <td>...</td>\n      <td>...</td>\n      <td>...</td>\n      <td>...</td>\n      <td>...</td>\n      <td>...</td>\n    </tr>\n    <tr>\n      <th>169904</th>\n      <td>0.1730</td>\n      <td>dripreport tyga</td>\n      <td>0.875</td>\n      <td>163800</td>\n      <td>0.4430</td>\n      <td>1</td>\n      <td>4KppkflX7I3vJQk7urOJaS</td>\n      <td>0.000032</td>\n      <td>1</td>\n      <td>0.0891</td>\n      <td>-7.461</td>\n      <td>1</td>\n      <td>skechers feat tyga  remix</td>\n      <td>75</td>\n      <td>2020-05-15</td>\n      <td>0.1430</td>\n      <td>100.012</td>\n      <td>0.3060</td>\n      <td>2020</td>\n    </tr>\n    <tr>\n      <th>169905</th>\n      <td>0.0167</td>\n      <td>leon bridges terrace martin</td>\n      <td>0.719</td>\n      <td>167468</td>\n      <td>0.3850</td>\n      <td>0</td>\n      <td>1ehhGlTvjtHo2e4xJFB0SZ</td>\n      <td>0.031300</td>\n      <td>8</td>\n      <td>0.1110</td>\n      <td>-10.907</td>\n      <td>1</td>\n      <td>sweeter feat terrace martin</td>\n      <td>64</td>\n      <td>2020-06-08</td>\n      <td>0.0403</td>\n      <td>128.000</td>\n      <td>0.2700</td>\n      <td>2020</td>\n    </tr>\n    <tr>\n      <th>169906</th>\n      <td>0.5380</td>\n      <td>kygo oh wonder</td>\n      <td>0.514</td>\n      <td>180700</td>\n      <td>0.5390</td>\n      <td>0</td>\n      <td>52eycxprLhK3lPcRLbQiVk</td>\n      <td>0.002330</td>\n      <td>7</td>\n      <td>0.1080</td>\n      <td>-9.332</td>\n      <td>1</td>\n      <td>how would i know</td>\n      <td>70</td>\n      <td>2020-05-29</td>\n      <td>0.1050</td>\n      <td>123.700</td>\n      <td>0.1530</td>\n      <td>2020</td>\n    </tr>\n    <tr>\n      <th>169907</th>\n      <td>0.0714</td>\n      <td>cash cash andy grammer</td>\n      <td>0.646</td>\n      <td>167308</td>\n      <td>0.7610</td>\n      <td>0</td>\n      <td>3wYOGJYD31sLRmBgCvWxa4</td>\n      <td>0.000000</td>\n      <td>1</td>\n      <td>0.2220</td>\n      <td>-2.557</td>\n      <td>1</td>\n      <td>i found you</td>\n      <td>70</td>\n      <td>2020-02-28</td>\n      <td>0.0385</td>\n      <td>129.916</td>\n      <td>0.4720</td>\n      <td>2020</td>\n    </tr>\n    <tr>\n      <th>169908</th>\n      <td>0.1090</td>\n      <td>ingrid andress</td>\n      <td>0.512</td>\n      <td>214787</td>\n      <td>0.4280</td>\n      <td>0</td>\n      <td>60RFlt48hm0l4Fu0JoccOl</td>\n      <td>0.000000</td>\n      <td>0</td>\n      <td>0.1050</td>\n      <td>-7.387</td>\n      <td>1</td>\n      <td>more hearts than mine</td>\n      <td>65</td>\n      <td>2020-03-27</td>\n      <td>0.0271</td>\n      <td>80.588</td>\n      <td>0.3660</td>\n      <td>2020</td>\n    </tr>\n  </tbody>\n</table>\n<p>169909 rows × 19 columns</p>\n</div>"
     },
     "execution_count": 4,
     "metadata": {},
     "output_type": "execute_result"
    }
   ],
   "source": [
    "spotify_df"
   ]
  },
  {
   "cell_type": "code",
   "execution_count": 5,
   "outputs": [],
   "source": [
    "# Clean spotify dataset\n",
    "# Drop unnecessary columns\n",
    "columns_to_drop = ['explicit', 'id', 'mode', 'release_date']\n",
    "spotify_df = spotify_df.loc[:, ~spotify_df.columns.isin(columns_to_drop)]\n",
    "spotify_df = spotify_df.dropna()\n",
    "cleaned_spotify = spotify_df.drop_duplicates()"
   ],
   "metadata": {
    "collapsed": false,
    "ExecuteTime": {
     "end_time": "2024-07-13T06:36:34.380253Z",
     "start_time": "2024-07-13T06:36:34.225856Z"
    }
   },
   "id": "b1de95eaec616aa4"
  },
  {
   "cell_type": "code",
   "execution_count": 6,
   "id": "787437fd",
   "metadata": {
    "ExecuteTime": {
     "end_time": "2024-07-13T06:36:34.382342Z",
     "start_time": "2024-07-13T06:36:34.322822Z"
    }
   },
   "outputs": [
    {
     "data": {
      "text/plain": "                                                      url      WeekID  \\\n0       http://www.billboard.com/charts/hot-100/1965-0...   7/17/1965   \n1       http://www.billboard.com/charts/hot-100/1965-0...   7/24/1965   \n2       http://www.billboard.com/charts/hot-100/1965-0...   7/31/1965   \n3       http://www.billboard.com/charts/hot-100/1965-0...    8/7/1965   \n4       http://www.billboard.com/charts/hot-100/1965-0...   8/14/1965   \n...                                                   ...         ...   \n327890  https://www.billboard.com/charts/hot-100/2018-...  10/20/2018   \n327891  http://www.billboard.com/charts/hot-100/1977-0...   5/21/1977   \n327892  http://www.billboard.com/charts/hot-100/1981-0...   5/23/1981   \n327893  http://www.billboard.com/charts/hot-100/1973-0...   9/29/1973   \n327894  https://www.billboard.com/charts/hot-100/2020-...  11/28/2020   \n\n        Week Position                     Song                  Performer  \\\n0                  34    dont just stand there                 patty duke   \n1                  22    dont just stand there                 patty duke   \n2                  14    dont just stand there                 patty duke   \n3                  10    dont just stand there                 patty duke   \n4                   8    dont just stand there                 patty duke   \n...               ...                      ...                        ...   \n327890             22           god is a woman              ariana grande   \n327891             22  i wanna get next to you                 rose royce   \n327892             22          i cant stand it  eric clapton and his band   \n327893             22  here i am come  take me                   al green   \n327894             22                    hawai         maluma  the weeknd   \n\n                                           SongID  Instance  \\\n0                Don't Just Stand TherePatty Duke         1   \n1                Don't Just Stand TherePatty Duke         1   \n2                Don't Just Stand TherePatty Duke         1   \n3                Don't Just Stand TherePatty Duke         1   \n4                Don't Just Stand TherePatty Duke         1   \n...                                           ...       ...   \n327890                God Is A WomanAriana Grande         1   \n327891          I Wanna Get Next To YouRose Royce         1   \n327892  I Can't Stand ItEric Clapton And His Band         1   \n327893           Here I Am Come & Take MeAl Green         1   \n327894                   HawaiMaluma & The Weeknd         1   \n\n        Previous Week Position  Peak Position  Weeks on Chart  \n0                         45.0             34               4  \n1                         34.0             22               5  \n2                         22.0             14               6  \n3                         14.0             10               7  \n4                         10.0              8               8  \n...                        ...            ...             ...  \n327890                    21.0              8              13  \n327891                    10.0             10              13  \n327892                    12.0             10              13  \n327893                    16.0             10              13  \n327894                    12.0             12              13  \n\n[327895 rows x 10 columns]",
      "text/html": "<div>\n<style scoped>\n    .dataframe tbody tr th:only-of-type {\n        vertical-align: middle;\n    }\n\n    .dataframe tbody tr th {\n        vertical-align: top;\n    }\n\n    .dataframe thead th {\n        text-align: right;\n    }\n</style>\n<table border=\"1\" class=\"dataframe\">\n  <thead>\n    <tr style=\"text-align: right;\">\n      <th></th>\n      <th>url</th>\n      <th>WeekID</th>\n      <th>Week Position</th>\n      <th>Song</th>\n      <th>Performer</th>\n      <th>SongID</th>\n      <th>Instance</th>\n      <th>Previous Week Position</th>\n      <th>Peak Position</th>\n      <th>Weeks on Chart</th>\n    </tr>\n  </thead>\n  <tbody>\n    <tr>\n      <th>0</th>\n      <td>http://www.billboard.com/charts/hot-100/1965-0...</td>\n      <td>7/17/1965</td>\n      <td>34</td>\n      <td>dont just stand there</td>\n      <td>patty duke</td>\n      <td>Don't Just Stand TherePatty Duke</td>\n      <td>1</td>\n      <td>45.0</td>\n      <td>34</td>\n      <td>4</td>\n    </tr>\n    <tr>\n      <th>1</th>\n      <td>http://www.billboard.com/charts/hot-100/1965-0...</td>\n      <td>7/24/1965</td>\n      <td>22</td>\n      <td>dont just stand there</td>\n      <td>patty duke</td>\n      <td>Don't Just Stand TherePatty Duke</td>\n      <td>1</td>\n      <td>34.0</td>\n      <td>22</td>\n      <td>5</td>\n    </tr>\n    <tr>\n      <th>2</th>\n      <td>http://www.billboard.com/charts/hot-100/1965-0...</td>\n      <td>7/31/1965</td>\n      <td>14</td>\n      <td>dont just stand there</td>\n      <td>patty duke</td>\n      <td>Don't Just Stand TherePatty Duke</td>\n      <td>1</td>\n      <td>22.0</td>\n      <td>14</td>\n      <td>6</td>\n    </tr>\n    <tr>\n      <th>3</th>\n      <td>http://www.billboard.com/charts/hot-100/1965-0...</td>\n      <td>8/7/1965</td>\n      <td>10</td>\n      <td>dont just stand there</td>\n      <td>patty duke</td>\n      <td>Don't Just Stand TherePatty Duke</td>\n      <td>1</td>\n      <td>14.0</td>\n      <td>10</td>\n      <td>7</td>\n    </tr>\n    <tr>\n      <th>4</th>\n      <td>http://www.billboard.com/charts/hot-100/1965-0...</td>\n      <td>8/14/1965</td>\n      <td>8</td>\n      <td>dont just stand there</td>\n      <td>patty duke</td>\n      <td>Don't Just Stand TherePatty Duke</td>\n      <td>1</td>\n      <td>10.0</td>\n      <td>8</td>\n      <td>8</td>\n    </tr>\n    <tr>\n      <th>...</th>\n      <td>...</td>\n      <td>...</td>\n      <td>...</td>\n      <td>...</td>\n      <td>...</td>\n      <td>...</td>\n      <td>...</td>\n      <td>...</td>\n      <td>...</td>\n      <td>...</td>\n    </tr>\n    <tr>\n      <th>327890</th>\n      <td>https://www.billboard.com/charts/hot-100/2018-...</td>\n      <td>10/20/2018</td>\n      <td>22</td>\n      <td>god is a woman</td>\n      <td>ariana grande</td>\n      <td>God Is A WomanAriana Grande</td>\n      <td>1</td>\n      <td>21.0</td>\n      <td>8</td>\n      <td>13</td>\n    </tr>\n    <tr>\n      <th>327891</th>\n      <td>http://www.billboard.com/charts/hot-100/1977-0...</td>\n      <td>5/21/1977</td>\n      <td>22</td>\n      <td>i wanna get next to you</td>\n      <td>rose royce</td>\n      <td>I Wanna Get Next To YouRose Royce</td>\n      <td>1</td>\n      <td>10.0</td>\n      <td>10</td>\n      <td>13</td>\n    </tr>\n    <tr>\n      <th>327892</th>\n      <td>http://www.billboard.com/charts/hot-100/1981-0...</td>\n      <td>5/23/1981</td>\n      <td>22</td>\n      <td>i cant stand it</td>\n      <td>eric clapton and his band</td>\n      <td>I Can't Stand ItEric Clapton And His Band</td>\n      <td>1</td>\n      <td>12.0</td>\n      <td>10</td>\n      <td>13</td>\n    </tr>\n    <tr>\n      <th>327893</th>\n      <td>http://www.billboard.com/charts/hot-100/1973-0...</td>\n      <td>9/29/1973</td>\n      <td>22</td>\n      <td>here i am come  take me</td>\n      <td>al green</td>\n      <td>Here I Am Come &amp; Take MeAl Green</td>\n      <td>1</td>\n      <td>16.0</td>\n      <td>10</td>\n      <td>13</td>\n    </tr>\n    <tr>\n      <th>327894</th>\n      <td>https://www.billboard.com/charts/hot-100/2020-...</td>\n      <td>11/28/2020</td>\n      <td>22</td>\n      <td>hawai</td>\n      <td>maluma  the weeknd</td>\n      <td>HawaiMaluma &amp; The Weeknd</td>\n      <td>1</td>\n      <td>12.0</td>\n      <td>12</td>\n      <td>13</td>\n    </tr>\n  </tbody>\n</table>\n<p>327895 rows × 10 columns</p>\n</div>"
     },
     "execution_count": 6,
     "metadata": {},
     "output_type": "execute_result"
    }
   ],
   "source": [
    "billboard_df"
   ]
  },
  {
   "cell_type": "code",
   "execution_count": 7,
   "id": "b22b0eeed2408230",
   "metadata": {
    "ExecuteTime": {
     "end_time": "2024-07-13T06:36:34.423903Z",
     "start_time": "2024-07-13T06:36:34.330091Z"
    }
   },
   "outputs": [
    {
     "name": "stdout",
     "output_type": "stream",
     "text": [
      "<class 'pandas.core.frame.DataFrame'>\n",
      "RangeIndex: 169909 entries, 0 to 169908\n",
      "Data columns (total 15 columns):\n",
      " #   Column            Non-Null Count   Dtype  \n",
      "---  ------            --------------   -----  \n",
      " 0   acousticness      169909 non-null  float64\n",
      " 1   artists           169909 non-null  object \n",
      " 2   danceability      169909 non-null  float64\n",
      " 3   duration_ms       169909 non-null  int64  \n",
      " 4   energy            169909 non-null  float64\n",
      " 5   instrumentalness  169909 non-null  float64\n",
      " 6   key               169909 non-null  int64  \n",
      " 7   liveness          169909 non-null  float64\n",
      " 8   loudness          169909 non-null  float64\n",
      " 9   name              169909 non-null  object \n",
      " 10  popularity        169909 non-null  int64  \n",
      " 11  speechiness       169909 non-null  float64\n",
      " 12  tempo             169909 non-null  float64\n",
      " 13  valence           169909 non-null  float64\n",
      " 14  year              169909 non-null  int64  \n",
      "dtypes: float64(9), int64(4), object(2)\n",
      "memory usage: 19.4+ MB\n",
      "None\n",
      "        acousticness   danceability   duration_ms         energy  \\\n",
      "count  169909.000000  169909.000000  1.699090e+05  169909.000000   \n",
      "mean        0.493214       0.538150  2.314062e+05       0.488593   \n",
      "std         0.376627       0.175346  1.213219e+05       0.267390   \n",
      "min         0.000000       0.000000  5.108000e+03       0.000000   \n",
      "25%         0.094500       0.417000  1.710400e+05       0.263000   \n",
      "50%         0.492000       0.548000  2.086000e+05       0.481000   \n",
      "75%         0.888000       0.667000  2.629600e+05       0.710000   \n",
      "max         0.996000       0.988000  5.403500e+06       1.000000   \n",
      "\n",
      "       instrumentalness            key       liveness       loudness  \\\n",
      "count     169909.000000  169909.000000  169909.000000  169909.000000   \n",
      "mean           0.161937       5.200519       0.206690     -11.370289   \n",
      "std            0.309329       3.515257       0.176796       5.666765   \n",
      "min            0.000000       0.000000       0.000000     -60.000000   \n",
      "25%            0.000000       2.000000       0.098400     -14.470000   \n",
      "50%            0.000204       5.000000       0.135000     -10.474000   \n",
      "75%            0.086800       8.000000       0.263000      -7.118000   \n",
      "max            1.000000      11.000000       1.000000       3.855000   \n",
      "\n",
      "          popularity    speechiness          tempo        valence  \\\n",
      "count  169909.000000  169909.000000  169909.000000  169909.000000   \n",
      "mean       31.556610       0.094058     116.948017       0.532095   \n",
      "std        21.582614       0.149937      30.726937       0.262408   \n",
      "min         0.000000       0.000000       0.000000       0.000000   \n",
      "25%        12.000000       0.034900      93.516000       0.322000   \n",
      "50%        33.000000       0.045000     114.778000       0.544000   \n",
      "75%        48.000000       0.075400     135.712000       0.749000   \n",
      "max       100.000000       0.969000     244.091000       1.000000   \n",
      "\n",
      "                year  \n",
      "count  169909.000000  \n",
      "mean     1977.223231  \n",
      "std        25.593168  \n",
      "min      1921.000000  \n",
      "25%      1957.000000  \n",
      "50%      1978.000000  \n",
      "75%      1999.000000  \n",
      "max      2020.000000  \n"
     ]
    }
   ],
   "source": [
    "print(spotify_df.info())\n",
    "print(spotify_df.describe())"
   ]
  },
  {
   "cell_type": "code",
   "execution_count": 8,
   "id": "47da65db",
   "metadata": {
    "ExecuteTime": {
     "end_time": "2024-07-13T06:36:34.545372Z",
     "start_time": "2024-07-13T06:36:34.408719Z"
    }
   },
   "outputs": [
    {
     "name": "stdout",
     "output_type": "stream",
     "text": [
      "<class 'pandas.core.frame.DataFrame'>\n",
      "RangeIndex: 327895 entries, 0 to 327894\n",
      "Data columns (total 10 columns):\n",
      " #   Column                  Non-Null Count   Dtype  \n",
      "---  ------                  --------------   -----  \n",
      " 0   url                     327895 non-null  object \n",
      " 1   WeekID                  327895 non-null  object \n",
      " 2   Week Position           327895 non-null  int64  \n",
      " 3   Song                    327895 non-null  object \n",
      " 4   Performer               327895 non-null  object \n",
      " 5   SongID                  327895 non-null  object \n",
      " 6   Instance                327895 non-null  int64  \n",
      " 7   Previous Week Position  295941 non-null  float64\n",
      " 8   Peak Position           327895 non-null  int64  \n",
      " 9   Weeks on Chart          327895 non-null  int64  \n",
      "dtypes: float64(1), int64(4), object(5)\n",
      "memory usage: 25.0+ MB\n",
      "None\n",
      "       Week Position       Instance  Previous Week Position  Peak Position  \\\n",
      "count  327895.000000  327895.000000           295941.000000  327895.000000   \n",
      "mean       50.499309       1.072538               47.604066      41.358307   \n",
      "std        28.865707       0.334188               28.056915      29.542497   \n",
      "min         1.000000       1.000000                1.000000       1.000000   \n",
      "25%        25.500000       1.000000               23.000000      14.000000   \n",
      "50%        50.000000       1.000000               47.000000      39.000000   \n",
      "75%        75.000000       1.000000               72.000000      66.000000   \n",
      "max       100.000000      10.000000              100.000000     100.000000   \n",
      "\n",
      "       Weeks on Chart  \n",
      "count   327895.000000  \n",
      "mean         9.153793  \n",
      "std          7.590281  \n",
      "min          1.000000  \n",
      "25%          4.000000  \n",
      "50%          7.000000  \n",
      "75%         13.000000  \n",
      "max         87.000000  \n"
     ]
    }
   ],
   "source": [
    "print(billboard_df.info())\n",
    "print(billboard_df.describe())"
   ]
  },
  {
   "cell_type": "code",
   "execution_count": 9,
   "id": "b98897dc",
   "metadata": {
    "ExecuteTime": {
     "end_time": "2024-07-13T06:36:34.688522Z",
     "start_time": "2024-07-13T06:36:34.474325Z"
    }
   },
   "outputs": [
    {
     "data": {
      "text/plain": "                         Song                       Performer  Weeks on Chart  \\\n0      0 to 100  the catch up                           drake              20   \n1            03 bonnie  clyde  jayz featuring beyonce knowles              23   \n2                           1                           nelly              20   \n3                     1 2 3 4                  plain white ts              20   \n4          1 2 3 4 sumpin new                          coolio              21   \n...                       ...                             ...             ...   \n26671          zipadee doodah   bob b soxx and the blue jeans              13   \n26672                  zombie                      bad wolves              17   \n26673                    zoom   lil boosie featuring yung joc              12   \n26674         zorba the greek  herb alpert  the tijuana brass              12   \n26675              zunga zeng                              k7              15   \n\n       Average Previous Week Position  Week Position  \n0                                  47             35  \n1                                  15              4  \n2                                  38             22  \n3                                  48             34  \n4                                  24              5  \n...                               ...            ...  \n26671                              29              8  \n26672                              77             61  \n26673                              71             61  \n26674                              34             11  \n26675                              71             61  \n\n[26676 rows x 5 columns]",
      "text/html": "<div>\n<style scoped>\n    .dataframe tbody tr th:only-of-type {\n        vertical-align: middle;\n    }\n\n    .dataframe tbody tr th {\n        vertical-align: top;\n    }\n\n    .dataframe thead th {\n        text-align: right;\n    }\n</style>\n<table border=\"1\" class=\"dataframe\">\n  <thead>\n    <tr style=\"text-align: right;\">\n      <th></th>\n      <th>Song</th>\n      <th>Performer</th>\n      <th>Weeks on Chart</th>\n      <th>Average Previous Week Position</th>\n      <th>Week Position</th>\n    </tr>\n  </thead>\n  <tbody>\n    <tr>\n      <th>0</th>\n      <td>0 to 100  the catch up</td>\n      <td>drake</td>\n      <td>20</td>\n      <td>47</td>\n      <td>35</td>\n    </tr>\n    <tr>\n      <th>1</th>\n      <td>03 bonnie  clyde</td>\n      <td>jayz featuring beyonce knowles</td>\n      <td>23</td>\n      <td>15</td>\n      <td>4</td>\n    </tr>\n    <tr>\n      <th>2</th>\n      <td>1</td>\n      <td>nelly</td>\n      <td>20</td>\n      <td>38</td>\n      <td>22</td>\n    </tr>\n    <tr>\n      <th>3</th>\n      <td>1 2 3 4</td>\n      <td>plain white ts</td>\n      <td>20</td>\n      <td>48</td>\n      <td>34</td>\n    </tr>\n    <tr>\n      <th>4</th>\n      <td>1 2 3 4 sumpin new</td>\n      <td>coolio</td>\n      <td>21</td>\n      <td>24</td>\n      <td>5</td>\n    </tr>\n    <tr>\n      <th>...</th>\n      <td>...</td>\n      <td>...</td>\n      <td>...</td>\n      <td>...</td>\n      <td>...</td>\n    </tr>\n    <tr>\n      <th>26671</th>\n      <td>zipadee doodah</td>\n      <td>bob b soxx and the blue jeans</td>\n      <td>13</td>\n      <td>29</td>\n      <td>8</td>\n    </tr>\n    <tr>\n      <th>26672</th>\n      <td>zombie</td>\n      <td>bad wolves</td>\n      <td>17</td>\n      <td>77</td>\n      <td>61</td>\n    </tr>\n    <tr>\n      <th>26673</th>\n      <td>zoom</td>\n      <td>lil boosie featuring yung joc</td>\n      <td>12</td>\n      <td>71</td>\n      <td>61</td>\n    </tr>\n    <tr>\n      <th>26674</th>\n      <td>zorba the greek</td>\n      <td>herb alpert  the tijuana brass</td>\n      <td>12</td>\n      <td>34</td>\n      <td>11</td>\n    </tr>\n    <tr>\n      <th>26675</th>\n      <td>zunga zeng</td>\n      <td>k7</td>\n      <td>15</td>\n      <td>71</td>\n      <td>61</td>\n    </tr>\n  </tbody>\n</table>\n<p>26676 rows × 5 columns</p>\n</div>"
     },
     "execution_count": 9,
     "metadata": {},
     "output_type": "execute_result"
    }
   ],
   "source": [
    "# Clean billboard dataset\n",
    "# Select the required columns\n",
    "selected_columns = ['Song', 'Performer', 'Week Position', 'Weeks on Chart', 'Previous Week Position']\n",
    "df_selected = billboard_df[selected_columns].copy()\n",
    "\n",
    "# Ensure the 'Previous Week Position' is numeric\n",
    "df_selected['Previous Week Position'] = pd.to_numeric(df_selected['Previous Week Position'], errors='coerce')\n",
    "\n",
    "# Drop rows with NaN values in the 'Previous Week Position' column after conversion\n",
    "df_selected = df_selected.dropna(subset=['Previous Week Position'])\n",
    "\n",
    "# Calculate the maximum 'Weeks on Chart' for each song and performer\n",
    "df_max_weeks = df_selected.groupby(['Song', 'Performer'], as_index=False)['Weeks on Chart'].max()\n",
    "\n",
    "# Calculate the average 'Previous Week Position' for each song and performer\n",
    "df_avg_previous_week = df_selected.groupby(['Song', 'Performer'], as_index=False)['Previous Week Position'].mean()\n",
    "df_avg_previous_week.rename(columns={'Previous Week Position': 'Average Previous Week Position'}, inplace=True)\n",
    "\n",
    "# Convert the average 'Previous Week Position' to integer\n",
    "df_avg_previous_week['Average Previous Week Position'] = df_avg_previous_week['Average Previous Week Position'].round().astype(int)\n",
    "\n",
    "# Calculate the maximum 'Week Position' for each song and performer\n",
    "df_max_week_position = df_selected.groupby(['Song', 'Performer'], as_index=False)['Week Position'].min()\n",
    "\n",
    "# Merge the results\n",
    "cleaned_billboard = df_max_weeks.merge(df_avg_previous_week, on=['Song', 'Performer'])\n",
    "cleaned_billboard = cleaned_billboard.merge(df_max_week_position, on=['Song', 'Performer'])\n",
    "\n",
    "# Save the cleaned dataset to a CSV file\n",
    "# cleaned_billboard.to_csv(\"billboard.csv\", index=False)\n",
    "\n",
    "# Display the cleaned DataFrame\n",
    "cleaned_billboard"
   ]
  },
  {
   "cell_type": "code",
   "execution_count": 10,
   "id": "b82adfa0253e8b61",
   "metadata": {
    "ExecuteTime": {
     "end_time": "2024-07-13T06:36:34.743402Z",
     "start_time": "2024-07-13T06:36:34.687934Z"
    }
   },
   "outputs": [],
   "source": [
    "# Create a combined key for better matching in cleaned spotify and billborad dataset\n",
    "cleaned_spotify = cleaned_spotify.copy() \n",
    "cleaned_spotify.loc[:, 'combined_key'] = (cleaned_spotify['name'] + ' ' + cleaned_spotify['artists']).astype(str)\n",
    "cleaned_billboard = cleaned_billboard.copy()\n",
    "cleaned_billboard.loc[:, 'combined_key'] = (cleaned_billboard['Song'] + ' ' + cleaned_billboard['Performer']).astype(str)"
   ]
  },
  {
   "cell_type": "code",
   "execution_count": 11,
   "id": "8b8d879f73869b85",
   "metadata": {
    "ExecuteTime": {
     "end_time": "2024-07-13T06:36:34.786666Z",
     "start_time": "2024-07-13T06:36:34.726677Z"
    }
   },
   "outputs": [],
   "source": [
    "# Merge datasets on the key\n",
    "combined_df = pd.merge(cleaned_spotify, cleaned_billboard, on='combined_key', how='inner')"
   ]
  },
  {
   "cell_type": "code",
   "execution_count": 12,
   "id": "d70db04ce043e859",
   "metadata": {
    "ExecuteTime": {
     "end_time": "2024-07-13T06:36:34.803955Z",
     "start_time": "2024-07-13T06:36:34.772511Z"
    }
   },
   "outputs": [
    {
     "name": "stdout",
     "output_type": "stream",
     "text": [
      "<class 'pandas.core.frame.DataFrame'>\n",
      "RangeIndex: 13659 entries, 0 to 13658\n",
      "Data columns (total 21 columns):\n",
      " #   Column                          Non-Null Count  Dtype  \n",
      "---  ------                          --------------  -----  \n",
      " 0   acousticness                    13659 non-null  float64\n",
      " 1   artists                         13659 non-null  object \n",
      " 2   danceability                    13659 non-null  float64\n",
      " 3   duration_ms                     13659 non-null  int64  \n",
      " 4   energy                          13659 non-null  float64\n",
      " 5   instrumentalness                13659 non-null  float64\n",
      " 6   key                             13659 non-null  int64  \n",
      " 7   liveness                        13659 non-null  float64\n",
      " 8   loudness                        13659 non-null  float64\n",
      " 9   name                            13659 non-null  object \n",
      " 10  popularity                      13659 non-null  int64  \n",
      " 11  speechiness                     13659 non-null  float64\n",
      " 12  tempo                           13659 non-null  float64\n",
      " 13  valence                         13659 non-null  float64\n",
      " 14  year                            13659 non-null  int64  \n",
      " 15  combined_key                    13659 non-null  object \n",
      " 16  Song                            13659 non-null  object \n",
      " 17  Performer                       13659 non-null  object \n",
      " 18  Weeks on Chart                  13659 non-null  int64  \n",
      " 19  Average Previous Week Position  13659 non-null  int64  \n",
      " 20  Week Position                   13659 non-null  int64  \n",
      "dtypes: float64(9), int64(7), object(5)\n",
      "memory usage: 2.2+ MB\n",
      "None\n",
      "       acousticness  danceability   duration_ms        energy  \\\n",
      "count  13659.000000  13659.000000  1.365900e+04  13659.000000   \n",
      "mean       0.264507      0.597084  2.317311e+05      0.625256   \n",
      "std        0.266816      0.147688  6.412762e+04      0.199546   \n",
      "min        0.000002      0.094300  8.092700e+04      0.022000   \n",
      "25%        0.037700      0.501000  1.899820e+05      0.479000   \n",
      "50%        0.162000      0.603000  2.254270e+05      0.643000   \n",
      "75%        0.443000      0.700000  2.622000e+05      0.788000   \n",
      "max        0.986000      0.988000  1.292293e+06      0.996000   \n",
      "\n",
      "       instrumentalness           key      liveness      loudness  \\\n",
      "count      13659.000000  13659.000000  13659.000000  13659.000000   \n",
      "mean           0.025175      5.214218      0.183653     -8.685280   \n",
      "std            0.112575      3.557420      0.148910      3.662674   \n",
      "min            0.000000      0.000000      0.009670    -27.119000   \n",
      "25%            0.000000      2.000000      0.088300    -11.196000   \n",
      "50%            0.000007      5.000000      0.126000     -8.230000   \n",
      "75%            0.000563      8.000000      0.239000     -5.737500   \n",
      "max            0.989000     11.000000      0.997000     -0.716000   \n",
      "\n",
      "         popularity   speechiness         tempo      valence          year  \\\n",
      "count  13659.000000  13659.000000  13659.000000  13659.00000  13659.000000   \n",
      "mean      48.823267      0.063910    120.732368      0.59805   1991.274251   \n",
      "std       15.613484      0.069557     28.028254      0.23546     16.967203   \n",
      "min        0.000000      0.022400     30.946000      0.03490   1942.000000   \n",
      "25%       38.000000      0.031500     99.866000      0.41400   1977.000000   \n",
      "50%       49.000000      0.039400    119.441000      0.61600   1992.000000   \n",
      "75%       60.000000      0.059600    136.746000      0.79300   2006.000000   \n",
      "max      100.000000      0.755000    217.396000      0.99100   2020.000000   \n",
      "\n",
      "       Weeks on Chart  Average Previous Week Position  Week Position  \n",
      "count    13659.000000                    13659.000000   13659.000000  \n",
      "mean        15.857969                       48.784611      31.708251  \n",
      "std          8.620845                       22.665535      27.749568  \n",
      "min          2.000000                        5.000000       1.000000  \n",
      "25%         10.000000                       30.000000       7.000000  \n",
      "50%         15.000000                       45.000000      24.000000  \n",
      "75%         20.000000                       67.000000      52.000000  \n",
      "max         87.000000                      100.000000     100.000000  \n"
     ]
    }
   ],
   "source": [
    "# Check the combined dataframe\n",
    "print(combined_df.info())\n",
    "print(combined_df.describe())\n"
   ]
  },
  {
   "cell_type": "code",
   "execution_count": 13,
   "id": "1c131e0fe2e79a80",
   "metadata": {
    "ExecuteTime": {
     "end_time": "2024-07-13T06:36:34.876051Z",
     "start_time": "2024-07-13T06:36:34.791580Z"
    }
   },
   "outputs": [],
   "source": [
    "combined_df.to_csv(\"result.csv\", index = False)"
   ]
  },
  {
   "cell_type": "code",
   "execution_count": 13,
   "outputs": [],
   "source": [],
   "metadata": {
    "collapsed": false,
    "ExecuteTime": {
     "end_time": "2024-07-13T06:36:34.881043Z",
     "start_time": "2024-07-13T06:36:34.877494Z"
    }
   },
   "id": "5f647f4d8472485a"
  }
 ],
 "metadata": {
  "kernelspec": {
   "display_name": "Python 3",
   "language": "python",
   "name": "python3"
  },
  "language_info": {
   "codemirror_mode": {
    "name": "ipython",
    "version": 3
   },
   "file_extension": ".py",
   "mimetype": "text/x-python",
   "name": "python",
   "nbconvert_exporter": "python",
   "pygments_lexer": "ipython3",
   "version": "3.12.3"
  }
 },
 "nbformat": 4,
 "nbformat_minor": 5
}
